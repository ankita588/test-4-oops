{
  "nbformat": 4,
  "nbformat_minor": 0,
  "metadata": {
    "colab": {
      "provenance": []
    },
    "kernelspec": {
      "name": "python3",
      "display_name": "Python 3"
    },
    "language_info": {
      "name": "python"
    }
  },
  "cells": [
    {
      "cell_type": "markdown",
      "source": [
        "# **Python (OOP) question?**\n"
      ],
      "metadata": {
        "id": "LbIyXR0UceL9"
      }
    },
    {
      "cell_type": "markdown",
      "source": [
        "\n",
        "## **1 What is the object oriented program (OOP)?**\n",
        "Answer\n",
        "Object-oriented programming (OOP) is a programming paradigm where you organize code around \"objects\" rather than actions and data.\n",
        "\n",
        " An object is a data structure with its own methods (functions that operate on the data) and data fields (attributes that describe the object).\n",
        "\n"
      ],
      "metadata": {
        "id": "3B_U9XaYc0nc"
      }
    },
    {
      "cell_type": "markdown",
      "source": [
        "Key Concepts of OOP:\n",
        "\n",
        "Encapsulation: Bundling data and methods that operate on that data within the object. This protects the data from external modification and simplifies the object's interface.\n",
        "Abstraction: Hiding complex implementation details and showing only essential information about an object. This makes the object easier to use and understand.\n",
        "Inheritance: Creating new objects (child classes) based on existing ones (parent classes). Child classes inherit the properties and behaviors of their parent classes, promoting code reusability.\n",
        "Polymorphism: Allowing objects of different classes to be treated as objects of a common type. This enables flexibility and extensibility in your code.\n",
        "Benefits of OOP:\n",
        "\n",
        "Modularity: Objects are self-contained units, making code easier to organize and maintain.\n",
        "Reusability: Objects can be reused in different parts of the program or in other programs, saving development time.\n",
        "Extensibility: New objects can be created by inheriting from existing ones, adding new functionality without modifying old code.\n",
        "Maintainability: Code is easier to understand and debug because objects represent real-world entities and their interactions.\n",
        "Examples of OOP:\n",
        "\n",
        "In a game: You might have objects like \"player,\" \"enemy,\" and \"item,\" each with their own attributes (health, speed, damage) and methods (move, attack, use).\n",
        "In a banking system: You might have objects like \"account,\" \"customer,\" and \"transaction,\" each with their own data and operations.\n",
        "\n",
        "OOP is a powerful programming paradigm that simplifies software development and promotes code quality. It's widely used in many programming languages, including Java, C++, Python, and JavaScript.\n",
        "\n",
        "\n",
        "Sources and related content\n"
      ],
      "metadata": {
        "id": "qXX2EFlGdbjq"
      }
    },
    {
      "cell_type": "markdown",
      "source": [
        "\n",
        "# **2 What is the class in OOP?**\n",
        "Answer\n",
        "In object-oriented programming (OOP), a class is like a blueprint or a template for creating objects. It defines the structure and behavior that objects of that class will have. 1\n",
        "Think of it like this:\n",
        "\n",
        "Class: A cookie cutter\n",
        "Object: A cookie made using that cutter\n",
        "The cookie cutter (class) determines the shape of the cookie (object), but each cookie (object) can have its own characteristics, like frosting or sprinkles.\n",
        "\n",
        "Here's a breakdown of what a class defines:\n",
        "\n",
        "Attributes (Data): These are the characteristics or properties of the objects that will be created from the class. For example, a \"Car\" class might have attributes like \"color,\" \"model,\" and \"speed.\"\n",
        "Methods (Behavior): These are the actions or functions that objects of the class can perform. For example, a \"Car\" class might have methods like \"drive,\" \"brake,\" and \"honk.\"\n",
        "Key points about classes:\n",
        "\n",
        "Blueprints, not objects: A class itself is not an object. It's the plan for creating objects.\n",
        "Objects are instances: When you create an object from a class, it's called an \"instance\" of that class. Each object has its own unique set of data (attributes) and can perform the actions defined by the class (methods).\n",
        "Code reusability: Classes promote code reusability. Once you define a class, you can create multiple objects from it without having to rewrite the code for each object.\n",
        "Example:\n"
      ],
      "metadata": {
        "id": "-Ki0USCldc18"
      }
    },
    {
      "cell_type": "code",
      "source": [
        "class Dog:  # This is the class\n",
        "    def __init__(self, name, breed):  # This is a special method called a constructor\n",
        "        self.name = name  # These are attributes\n",
        "        self.breed = breed\n",
        "\n",
        "    def bark(self):  # This is a method\n",
        "        print(\"Woof!\")\n",
        "\n",
        "my_dog = Dog(\"Buddy\", \"Golden Retriever\")  # This creates an object (instance) of the Dog class\n",
        "print(my_dog.name)  # Accessing an attribute\n",
        "my_dog.bark()  # Calling a method"
      ],
      "metadata": {
        "id": "7l94bHmneFvp"
      },
      "execution_count": null,
      "outputs": []
    },
    {
      "cell_type": "markdown",
      "source": [
        "In this example, Dog is the class, my_dog is an object (instance) of the Dog class, name and breed are attributes, and bark is a method."
      ],
      "metadata": {
        "id": "nXdZmZ8PeJ0H"
      }
    },
    {
      "cell_type": "markdown",
      "source": [
        "\n",
        "# **3 What is an object in OOP?**\n",
        "Answer\n",
        "In object-oriented programming (OOP), an object is a specific instance of a class.  Think of the class as the blueprint, and the object as the actual thing built from that blueprint.  It's a concrete realization of the class.\n",
        "\n",
        "Here's a breakdown:\n",
        "\n",
        "Class vs. Object: A class is a type or category.  An object is a specific thing of that type.  For example, \"Dog\" is a class (the general concept), while \"Buddy\" (my specific dog) is an object.\n",
        "\n",
        "Attributes (Data): Objects have data associated with them, called attributes or properties. These attributes hold specific values that describe the object.  For Buddy the dog, attributes might be name = \"Buddy\", breed = \"Golden Retriever\", age = 5, weight = 60, etc.  Each object of the same class can have different values for these attributes.  Another dog object, \"Max,\" might have name = \"Max\", breed = \"German Shepherd\", age = 2, weight = 75.\n",
        "\n",
        "Methods (Behavior): Objects also have methods, which are functions that operate on the object's data (attributes).  These define what an object can do.  A Dog class might have methods like bark(), fetch(), eat(), wagTail(). When you call Buddy.bark(), you're telling the Buddy object to perform the bark() action.  Max.bark() would tell the Max object to bark.\n",
        "\n",
        "State: The current values of an object's attributes are collectively known as the object's state.  The state can change over time. Buddy might gain weight, so his weight attribute would be updated.\n",
        "\n",
        "Key Characteristics of Objects:\n",
        "\n",
        "Identity: Each object is unique and can be distinguished from other objects, even if they have the same attribute values. Buddy and Max are both dogs (objects of the Dog class), but they are distinct individuals.\n",
        "State (Data): Objects hold data in the form of attributes.\n",
        "Behavior (Methods): Objects have methods that define their actions.\n",
        "Example (Python):\n"
      ],
      "metadata": {
        "id": "IM8bDiaBfIJO"
      }
    },
    {
      "cell_type": "code",
      "source": [
        "class Dog:  # Class (blueprint)\n",
        "    def __init__(self, name, breed, age): # Constructor (initializes object)\n",
        "        self.name = name\n",
        "        self.breed = breed\n",
        "        self.age = age\n",
        "\n",
        "    def bark(self):  # Method (behavior)\n",
        "        print(\"Woof!\")\n",
        "\n",
        "# Creating objects (instances)\n",
        "buddy = Dog(\"Buddy\", \"Golden Retriever\", 5)  # Object 1\n",
        "max = Dog(\"Max\", \"German Shepherd\", 2)      # Object 2\n",
        "\n",
        "print(buddy.name)  # Accessing Buddy's name (attribute)\n",
        "max.bark()        # Max barks (calling a method)\n",
        "\n",
        "buddy.age = 6      # Changing Buddy's age (state change)"
      ],
      "metadata": {
        "id": "wB4gpbYxftMd"
      },
      "execution_count": null,
      "outputs": []
    },
    {
      "cell_type": "markdown",
      "source": [
        "In this example, buddy and max are objects of the Dog class.  They each have their own name, breed, and age (attributes), and they can both bark() (behavior).  Even though they are both dogs, they are separate, distinct objects."
      ],
      "metadata": {
        "id": "_VDmb1cnfvdm"
      }
    },
    {
      "cell_type": "markdown",
      "source": [
        "# 4  What is the difference between abstraction and encapsulation?\n",
        "Answer\n"
      ],
      "metadata": {
        "id": "HEUbn_NafzbQ"
      }
    },
    {
      "cell_type": "markdown",
      "source": [
        "Abstraction and encapsulation are two fundamental principles in object-oriented programming (OOP) that often work together, but they have distinct purposes:\n",
        "\n",
        "Abstraction:\n",
        "\n",
        "Focuses on \"what\" an object does. It simplifies complex systems by hiding unnecessary details and showing only the essential features to the user. Think of it as providing a high-level view of an object.\n",
        "Hides implementation details. You don't need to know how a car's engine works to drive it. Abstraction allows you to interact with the car using simple controls like the steering wheel and pedals.\n",
        "Achieved through abstract classes and interfaces. These define a blueprint for objects, specifying what methods they should have without providing a concrete implementation.\n",
        "Encapsulation:\n",
        "\n",
        "Focuses on \"how\" an object does something. It bundles data (attributes) and methods (behavior) that operate on that data within a single unit, like a class.\n",
        "Protects data from unauthorized access. Encapsulation uses access modifiers (like private, protected, and public) to control how other parts of the program can interact with an object's data. This helps maintain data integrity and prevents accidental modification.\n",
        "Achieved through access modifiers. For example, declaring an attribute as \"private\" means it can only be accessed within the class itself, not from outside.\n"
      ],
      "metadata": {
        "id": "v6ivhH1TyOji"
      }
    },
    {
      "cell_type": "markdown",
      "source": [
        "\n",
        "# 5 What are dunder method in Python?\n",
        "Answer\n",
        "In Python, dunder methods are special methods that allow your classes to interact with Python's built-in functions and operators. They are also known as magic methods or special methods.\n",
        "\n",
        "\"Dunder\" is short for \"double underscore\" because these methods have double underscores at the beginning and end of their names, like __init__ or __str__.\n",
        "\n",
        "Purpose of Dunder Methods:\n",
        "\n",
        "Dunder methods provide a way to customize the behavior of your objects in various situations. They are not meant to be called directly by you (though you can), but rather they are invoked implicitly by Python when you use certain operators or functions.\n",
        "\n",
        "Examples of Dunder Methods:\n",
        "\n",
        "__init__(self, ...): This is the constructor method. It's called when you create a new object of a class. You use it to initialize the object's attributes.\n",
        "__str__(self): This method returns a string representation of the object. It's called when you use the str() function on your object or when you try to print it.\n",
        "__repr__(self): This method returns a string representation of the object that can be used to recreate the object. It's called when you use the repr() function.\n",
        "__len__(self): This method returns the \"length\" of the object. It's called when you use the len() function.\n",
        "__getitem__(self, key): This method allows you to access elements of your object using indexing (e.g., my_object[0]).\n",
        "__add__(self, other): This method defines how the + operator works with your object.\n",
        "__eq__(self, other): This method defines how the == operator works with your object.\n",
        "Benefits of Using Dunder Methods:\n",
        "\n",
        "Operator Overloading: You can define how standard operators like +, -, *, /, ==, etc., behave with your objects. This makes your code more intuitive and readable.\n",
        "Customizing Built-in Functions: You can control how built-in functions like str(), repr(), len(), etc., work with your objects.\n",
        "Creating Powerful Classes: Dunder methods allow you to create classes that behave like built-in Python types, making your code more flexible and powerful.\n",
        "\n"
      ],
      "metadata": {
        "id": "ak9h8oPLyQ7b"
      }
    },
    {
      "cell_type": "code",
      "source": [
        "class Book:\n",
        "    def __init__(self, title, author, pages):\n",
        "        self.title = title\n",
        "        self.author = author\n",
        "        self.pages = pages\n",
        "\n",
        "    def __str__(self):\n",
        "        return f\"{self.title} by {self.author}\"\n",
        "\n",
        "    def __len__(self):\n",
        "        return self.pages\n",
        "\n",
        "book = Book(\"The Hitchhiker's Guide to the Galaxy\", \"Douglas Adams\", 224)\n",
        "\n",
        "print(book)  # Output: The Hitchhiker's Guide to the Galaxy by Douglas Adams\n",
        "print(len(book))  # Output: 224"
      ],
      "metadata": {
        "id": "LSoC1Zwky9pr"
      },
      "execution_count": null,
      "outputs": []
    },
    {
      "cell_type": "markdown",
      "source": [
        "In this example, we've defined the __str__ and __len__ dunder methods for the Book class. This allows us to print the book object in a user-friendly way and to get the number of pages using the len() function.\n",
        "\n",
        "\n",
        "Sources and related content\n"
      ],
      "metadata": {
        "id": "cTG7EOuOzAU0"
      }
    },
    {
      "cell_type": "markdown",
      "source": [
        "\n",
        "# 6 Explain the concept of inheritance in OOP?\n",
        "Answer"
      ],
      "metadata": {
        "id": "6DHFbF7CzEV0"
      }
    },
    {
      "cell_type": "markdown",
      "source": [
        "Inheritance is a fundamental concept in Object-Oriented Programming (OOP) where a new class (called a \"child\" or \"derived\" class) is created based on an existing class (called a \"parent\" or \"base\" class).  The child class inherits the properties (attributes) and behaviors (methods) of the parent class.  Think of it like a child inheriting traits from their parents.\n",
        "\n",
        "Here's a breakdown of the key aspects of inheritance:\n",
        "\n",
        "Parent Class (Base Class): The class from which other classes inherit. It defines common properties and behaviors.\n",
        "Child Class (Derived Class): The class that inherits from the parent class. It can add new properties and behaviors or override the existing ones.\n",
        "\"Is-a\" Relationship: Inheritance often represents an \"is-a\" relationship. For example, a \"Car\" is a \"Vehicle.\" The Car class would inherit from the Vehicle class.\n",
        "Code Reusability: Inheritance promotes code reusability. You can define common properties and behaviors in the parent class and reuse them in multiple child classes, avoiding code duplication.\n",
        "Extensibility: You can extend the functionality of the parent class by adding new properties and behaviors in the child class.\n",
        "Overriding: A child class can provide its own implementation of a method that is already defined in the parent class. This is called method overriding. It allows the child class to customize the behavior inherited from the parent.\n",
        "Benefits of Inheritance:\n",
        "\n",
        "Reduced Code Duplication: Common code can be placed in the parent class and reused by multiple child classes.\n",
        "Improved Code Organization: Inheritance helps organize code by grouping related classes in a hierarchy.\n",
        "Enhanced Code Maintainability: Changes to the parent class are automatically reflected in all its child classes.\n",
        "Polymorphism: Inheritance is often used in conjunction with polymorphism, which allows objects of different classes to be treated as objects of a common type.\n",
        "Example (Python):"
      ],
      "metadata": {
        "id": "3B0CbisJzuzg"
      }
    },
    {
      "cell_type": "code",
      "source": [
        "class Animal:  # Parent class\n",
        "    def __init__(self, name):\n",
        "        self.name = name\n",
        "\n",
        "    def speak(self):\n",
        "        print(\"Generic animal sound\")\n",
        "\n",
        "class Dog(Animal):  # Child class inheriting from Animal\n",
        "    def speak(self):  # Overriding the speak method\n",
        "        print(\"Woof!\")\n",
        "\n",
        "    def wag_tail(self):  # Adding a new method specific to Dogs\n",
        "        print(\"Tail wagging\")\n",
        "\n",
        "class Cat(Animal):  # Another child class inheriting from Animal\n",
        "    def speak(self):  # Overriding the speak method\n",
        "        print(\"Meow!\")\n",
        "\n",
        "my_dog = Dog(\"Buddy\")\n",
        "my_cat = Cat(\"Whiskers\")\n",
        "\n",
        "my_dog.speak()    # Output: Woof! (Dog's specific implementation)\n",
        "my_cat.speak()    # Output: Meow! (Cat's specific implementation)\n",
        "my_dog.wag_tail() # Output: Tail wagging (Dog's specific method)\n",
        "\n",
        "print(my_dog.name) # Output: Buddy (Inherited from Animal)"
      ],
      "metadata": {
        "id": "-jklBJuWzw3J"
      },
      "execution_count": null,
      "outputs": []
    },
    {
      "cell_type": "markdown",
      "source": [],
      "metadata": {
        "id": "7CfuP5ahz4_R"
      }
    },
    {
      "cell_type": "markdown",
      "source": [
        "In this example, Dog and Cat inherit from Animal. They both override the speak() method to provide their own specific implementations.  Dog also adds a new method, wag_tail(), that is specific to dogs.  Both Dog and Cat inherit the name attribute from the Animal class.  This demonstrates how inheritance promotes code reuse and allows you to create specialized classes based on more general ones."
      ],
      "metadata": {
        "id": "Z6zLGXjZz4lM"
      }
    },
    {
      "cell_type": "markdown",
      "source": [
        "# 7 What is polymorphism in OOP?\n",
        "Answer\n"
      ],
      "metadata": {
        "id": "Gf_6ApU8z6Oo"
      }
    },
    {
      "cell_type": "markdown",
      "source": [
        "Polymorphism is a core concept in object-oriented programming (OOP) that allows objects of different classes to be treated as objects of a common type. It comes from the Greek words \"poly\" (many) and \"morphe\" (form), meaning \"many forms.\"\n",
        "\n",
        "Key aspects of polymorphism:\n",
        "\n",
        "One interface, multiple implementations: Polymorphism enables you to use the same method name or operator with different types of objects, and each object will respond in its own specific way.\n",
        "Flexibility and extensibility: It makes your code more flexible and allows you to easily add new types of objects without modifying existing code.\n",
        "\"Many forms\" of behavior: An object can take on different forms or exhibit different behaviors depending on the context.\n",
        "Types of polymorphism:\n",
        "\n",
        "Compile-time polymorphism (static polymorphism): This is achieved through method overloading. You can define multiple methods in the same class with the same name but different parameters. The compiler determines which method to call based on the arguments provided.\n",
        "Run-time polymorphism (dynamic polymorphism): This is achieved through method overriding. A child class can provide its own implementation of a method that is already defined in its parent class. The decision of which method to call is made at run-time based on the actual type of the object.\n",
        "Example (Python):"
      ],
      "metadata": {
        "id": "MENK0p6g0Wr8"
      }
    },
    {
      "cell_type": "code",
      "source": [
        "class Animal:\n",
        "    def speak(self):\n",
        "        print(\"Generic animal sound\")\n",
        "\n",
        "class Dog(Animal):\n",
        "    def speak(self):\n",
        "        print(\"Woof!\")\n",
        "\n",
        "class Cat(Animal):\n",
        "    def speak(self):\n",
        "        print(\"Meow!\")\n",
        "\n",
        "def animal_sound(animal):\n",
        "    animal.speak()\n",
        "\n",
        "my_dog = Dog()\n",
        "my_cat = Cat()\n",
        "\n",
        "animal_sound(my_dog)  # Output: Woof!\n",
        "animal_sound(my_cat)  # Output: Meow!"
      ],
      "metadata": {
        "id": "7fXPQd6X0Zf6"
      },
      "execution_count": null,
      "outputs": []
    },
    {
      "cell_type": "markdown",
      "source": [
        "In this example, both Dog and Cat classes have a speak() method, but they provide different implementations. The animal_sound() function can accept objects of both Dog and Cat classes, and it will call the appropriate speak() method based on the object's actual type. This is polymorphism in action.\n",
        "\n",
        "Benefits of polymorphism:\n",
        "\n",
        "Code reusability: You can write code that works with objects of different classes without having to write separate code for each class.\n",
        "Loose coupling: Polymorphism reduces dependencies between classes, making your code more modular and easier to maintain.\n",
        "Extensibility: You can easily add new classes to your program without having to modify existing code that uses polymorphic methods.\n",
        "Abstraction: Polymorphism allows you to work with objects at a higher level of abstraction, focusing on their behavior rather than their specific type.\n",
        "Polymorphism is a powerful tool in OOP that promotes code flexibility, reusability, and maintainability. It's a key concept for building robust and scalable software systems.\n",
        "\n",
        "\n",
        "Sources and related content\n"
      ],
      "metadata": {
        "id": "L66f3fHe0c69"
      }
    },
    {
      "cell_type": "markdown",
      "source": [
        "# 8 How is encapsulation achieved in python ?\n",
        "Answer\n",
        "Encapsulation in Python is achieved by bundling data (attributes) and methods (functions) that operate on that data within a single unit, typically a class. It also involves controlling access to the internal data of the object, preventing direct modification from outside the class.\n",
        "\n",
        "Here's how encapsulation is implemented in Python:\n",
        "\n",
        "1. Access Modifiers:\n",
        "\n",
        "Python uses naming conventions to indicate the intended level of access to attributes and methods:\n",
        "\n",
        "Public: Attributes and methods that are accessible from anywhere (inside or outside the class). These are the default if no prefix is used.\n",
        "Protected: Attributes and methods that are intended for use within the class and its subclasses. They are prefixed with a single underscore (_). While they can still be accessed from outside the class, it's a convention to treat them as protected.\n",
        "Private: Attributes and methods that are intended for use only within the class. They are prefixed with double underscores (__). Python uses name mangling to make it more difficult to access them directly from outside the class.\n",
        "2. Getters and Setters:\n",
        "\n",
        "To control access to attributes and provide a way to interact with them, you can use getter and setter methods:\n",
        "\n",
        "Getter: A method that retrieves the value of an attribute.\n",
        "Setter: A method that sets or modifies the value of an attribute.\n",
        "3. Property Decorator:\n",
        "\n",
        "Python provides the @property decorator, which allows you to define getter, setter, and deleter methods for class attributes in a more concise and Pythonic way.\n",
        "\n",
        "Example:\n"
      ],
      "metadata": {
        "id": "XvwEUfxU0eO_"
      }
    },
    {
      "cell_type": "code",
      "source": [
        "class Car:\n",
        "    def __init__(self, model, color):\n",
        "        self._model = model  # Protected attribute\n",
        "        self.__color = color  # Private attribute\n",
        "\n",
        "    def get_model(self):  # Getter method\n",
        "        return self._model\n",
        "\n",
        "    def set_model(self, model):  # Setter method\n",
        "        self._model = model\n",
        "\n",
        "    @property\n",
        "    def color(self):  # Property for color\n",
        "        return self.__color\n",
        "\n",
        "    @color.setter\n",
        "    def color(self, color):\n",
        "        if color in [\"red\", \"blue\", \"green\"]:\n",
        "            self.__color = color\n",
        "        else:\n",
        "            raise ValueError(\"Invalid color\")\n",
        "\n",
        "my_car = Car(\"Toyota\", \"red\")\n",
        "\n",
        "print(my_car.get_model())  # Accessing protected attribute using getter\n",
        "my_car.set_model(\"Honda\")  # Modifying protected attribute using setter\n",
        "\n",
        "print(my_car.color)  # Accessing private attribute using property\n",
        "my_car.color = \"blue\"  # Modifying private attribute using property\n",
        "\n",
        "# my_car.__color = \"yellow\"  # This will raise an AttributeError"
      ],
      "metadata": {
        "id": "5kn99_cx06fV"
      },
      "execution_count": null,
      "outputs": []
    },
    {
      "cell_type": "markdown",
      "source": [
        "In this example:\n",
        "\n",
        "_model is a protected attribute, accessed using getter and setter methods.\n",
        "__color is a private attribute, accessed and modified using the color property.\n",
        "The @property decorator simplifies the definition of the color property, making it look like a regular attribute access.\n",
        "Benefits of Encapsulation:\n",
        "\n",
        "Data Hiding: Prevents direct access to internal data, protecting it from accidental or unauthorized modification.\n",
        "Data Integrity: Allows you to enforce rules and constraints on how data is modified, ensuring data consistency.\n",
        "Abstraction: Hides the internal implementation details of a class, making it easier to use and maintain.\n",
        "Code Reusability: Encapsulated classes can be reused in different parts of the program or in other programs.\n",
        "Modularity: Encapsulation promotes modular design, making code more organized and easier to understand.\n",
        "Encapsulation is a crucial concept in OOP that helps you write robust, maintainable, and secure code. It's a key principle for building well-structured and scalable software systems.\n",
        "\n",
        "\n",
        "Sources and related content\n"
      ],
      "metadata": {
        "id": "jRkfvK0y09Dv"
      }
    },
    {
      "cell_type": "markdown",
      "source": [
        "# **9 What is constructor in python?**\n",
        "Answer\n",
        "In Python, a constructor is a special method within a class that is automatically called when you create a new object (instance) of that class. Its primary purpose is to initialize the object's attributes (data).  The constructor's name is always __init__ (double underscores, \"init,\" double underscores).\n",
        "\n",
        "Here's a breakdown of the key aspects of constructors in Python:\n",
        "\n",
        "Automatic Invocation: The __init__ method is automatically called as soon as you create an object of a class. You don't call it directly; Python handles it for you.\n",
        "Initialization of Attributes: The main job of the constructor is to set up the initial state of the object by assigning values to its attributes.\n",
        "self Parameter: The first parameter of __init__ is always self. self refers to the instance of the class that is being created. It's how the constructor can modify the attributes of that specific object.\n",
        "Parameters (Arguments): You can define additional parameters in __init__ to receive values when the object is created. These values are then typically used to initialize the object's attributes.\n",
        "Example:\n"
      ],
      "metadata": {
        "id": "iLku9hpd0-Pc"
      }
    },
    {
      "cell_type": "code",
      "source": [
        "class Dog:\n",
        "    def __init__(self, name, breed, age):  # Constructor\n",
        "        self.name = name      # Initialize name attribute\n",
        "        self.breed = breed    # Initialize breed attribute\n",
        "        self.age = age        # Initialize age attribute\n",
        "\n",
        "    def bark(self):\n",
        "        print(\"Woof!\")\n",
        "\n",
        "# Creating objects (instances) of the Dog class\n",
        "my_dog = Dog(\"Buddy\", \"Golden Retriever\", 3)\n",
        "another_dog = Dog(\"Max\", \"German Shepherd\", 5)\n",
        "\n",
        "print(my_dog.name)        # Output: Buddy\n",
        "print(another_dog.breed)  # Output: German Shepherd\n",
        "\n",
        "my_dog.bark()            # Output: Woof!"
      ],
      "metadata": {
        "id": "a4sF-2qh1jny"
      },
      "execution_count": null,
      "outputs": []
    },
    {
      "cell_type": "markdown",
      "source": [
        "Explanation:\n",
        "\n",
        "Class Definition: We define a class called Dog.\n",
        "Constructor __init__: Inside the Dog class, we define the constructor __init__. It takes three parameters: self, name, breed, and age.\n",
        "self Parameter: The self parameter is automatically passed by Python and refers to the specific Dog object being created.\n",
        "Initializing Attributes: Inside the constructor, we use self.name = name, self.breed = breed, and self.age = age to assign the values passed as arguments to the corresponding attributes of the Dog object.\n",
        "Object Creation: When we create my_dog = Dog(\"Buddy\", \"Golden Retriever\", 3), Python automatically calls the __init__ method with my_dog as the self argument, and the provided values for name, breed, and age. The same happens when we create another_dog.\n",
        "Accessing Attributes: After the objects are created, we can access their attributes using dot notation (e.g., my_dog.name).\n",
        "Key Points:\n",
        "\n",
        "Every class can have at most one constructor (__init__).\n",
        "If you don't define a constructor, Python provides a default constructor that does nothing.\n",
        "Constructors are essential for setting up the initial state of objects, ensuring they are ready to use when they are created. They make your code more organized and prevent errors that could arise from uninitialized objects.\n",
        "\n",
        "Sources and related content\n"
      ],
      "metadata": {
        "id": "H-oFC8Wh1meP"
      }
    },
    {
      "cell_type": "markdown",
      "source": [
        "# 10 What are class and static methods in python?\n",
        "Answer\n"
      ],
      "metadata": {
        "id": "zBHhw-F11n8Y"
      }
    },
    {
      "cell_type": "markdown",
      "source": [
        "In Python, both class methods and static methods are methods bound to a class, but they differ in how they are called and their relationship to the class and its instances (objects).\n",
        "\n",
        "1. Class Methods:\n",
        "\n",
        "Bound to the class: Class methods are bound to the class and are called using the class name as the caller (e.g., MyClass.my_method()).\n",
        "Receive the class as the first argument: Class methods implicitly receive the class itself as the first argument, conventionally named cls.\n",
        "Can access and modify class attributes: Because they receive the class as an argument, class methods can access and modify class-level attributes (attributes that belong to the class itself, not to individual instances).\n",
        "Use the @classmethod decorator: You define a class method using the @classmethod decorator.\n",
        "2. Static Methods:\n",
        "\n",
        "Not bound to the class or instance: Static methods are not automatically passed the class or the instance as an argument. They are essentially regular functions that are placed within the class for organizational purposes.\n",
        "Called using the class name: Like class methods, they are called using the class name (e.g., MyClass.my_static_method()).\n",
        "Do not have access to class or instance attributes: Since they don't receive the class or instance as an argument, static methods cannot directly access or modify class-level or instance-level attributes.\n",
        "Use the @staticmethod decorator: You define a static method using the @staticmethod decorator.\n",
        "Example:"
      ],
      "metadata": {
        "id": "fJw1ertK2KXl"
      }
    },
    {
      "cell_type": "code",
      "source": [
        "class MyClass:\n",
        "    class_attribute = 0  # Class attribute\n",
        "\n",
        "    def __init__(self, instance_attribute):\n",
        "        self.instance_attribute = instance_attribute\n",
        "\n",
        "    @classmethod\n",
        "    def class_method(cls):\n",
        "        cls.class_attribute += 1\n",
        "        print(f\"Class attribute: {cls.class_attribute}\")\n",
        "\n",
        "    @staticmethod\n",
        "    def static_method(x, y):\n",
        "        return x + y\n",
        "\n",
        "# Using the methods\n",
        "my_object = MyClass(10)\n",
        "\n",
        "MyClass.class_method()  # Output: Class attribute: 1\n",
        "MyClass.class_method()  # Output: Class attribute: 2\n",
        "\n",
        "result = MyClass.static_method(5, 3)\n",
        "print(result)  # Output: 8\n",
        "\n",
        "print(my_object.instance_attribute) # Output: 10 (Instance attributes are not affected by class or static methods)"
      ],
      "metadata": {
        "id": "ZabWP13a2P57"
      },
      "execution_count": null,
      "outputs": []
    },
    {
      "cell_type": "markdown",
      "source": [
        "When to Use Class Methods:\n",
        "\n",
        "When you need to access or modify class-level attributes.\n",
        "To create factory methods that return instances of the class (often used as alternative constructors).\n",
        "When to Use Static Methods:\n",
        "\n",
        "When you have a utility function that is related to the class but doesn't need access to the class or instance data. It's a way to keep related functions organized within the class's namespace.\n",
        "When you want to group related functions logically within a class, even if they don't operate on instance or class data."
      ],
      "metadata": {
        "id": "_LnOjX0g2U_f"
      }
    },
    {
      "cell_type": "markdown",
      "source": [
        "11  What is method is overloading in python?\n",
        "Answer\n",
        "Method overloading, in its traditional sense as found in languages like Java or C++, doesn't exist in Python in the same way.  Those languages allow you to define multiple methods with the same name but different parameter lists (different number of parameters, different types of parameters, or both) within the same class. The compiler then decides which method to call based on the arguments provided during the method call (static dispatch).\n",
        "\n",
        "Python's dynamic typing and flexible argument handling make true method overloading unnecessary and, therefore, not directly supported.  If you define multiple methods with the same name in a Python class, the last definition will simply override any previous ones.\n",
        "\n",
        "However, Python offers ways to achieve similar outcomes and handle different call scenarios for a single method:\n",
        "\n",
        "1. Default Argument Values:\n",
        "\n",
        "You can provide default values for function parameters. This allows the function to be called with fewer arguments than defined, effectively simulating having multiple versions of the method.\n",
        "\n",
        "\n"
      ],
      "metadata": {
        "id": "nhnm9UKH2aRm"
      }
    },
    {
      "cell_type": "code",
      "source": [
        "class Calculator:\n",
        "    def add(self, x, y=0, z=0):  # Default values for y and z\n",
        "        return x + y + z\n",
        "\n",
        "calc = Calculator()\n",
        "print(calc.add(5))      # Uses default values: 5 + 0 + 0 = 5\n",
        "print(calc.add(5, 3))   # Uses default value for z: 5 + 3 + 0 = 8\n",
        "print(calc.add(5, 3, 2)) # All arguments provided: 5 + 3 + 2 = 10"
      ],
      "metadata": {
        "id": "GTT7SHCE3AAe"
      },
      "execution_count": null,
      "outputs": []
    },
    {
      "cell_type": "markdown",
      "source": [
        "2. Variable Length Arguments (*args and **kwargs):\n",
        "\n",
        "You can use *args to accept a variable number of positional arguments and **kwargs to accept a variable number of keyword arguments. This gives you great flexibility in handling different call signatures."
      ],
      "metadata": {
        "id": "Kkyt7Nvs3CM4"
      }
    },
    {
      "cell_type": "code",
      "source": [
        "class MyClass:\n",
        "    def my_method(self, *args, **kwargs):\n",
        "        if args:\n",
        "            print(\"Positional arguments:\", args)\n",
        "        if kwargs:\n",
        "            print(\"Keyword arguments:\", kwargs)\n",
        "\n",
        "obj = MyClass()\n",
        "obj.my_method(1, 2, 3)                 # Positional arguments: (1, 2, 3)\n",
        "obj.my_method(a=1, b=2)               # Keyword arguments: {'a': 1, 'b': 2}\n",
        "obj.my_method(1, 2, a=1, b=2)         # Both\n",
        "obj.my_method()                      # No arguments"
      ],
      "metadata": {
        "id": "VoQ5vfY43Glq"
      },
      "execution_count": null,
      "outputs": []
    },
    {
      "cell_type": "markdown",
      "source": [
        "3. Type Hinting and Dispatching (for more complex scenarios):\n",
        "\n",
        "For more advanced cases, you can use type hints (though Python is dynamically typed and doesn't enforce them at runtime by default) combined with libraries like functools.singledispatch to create a form of generic function dispatch based on argument types.  This is closer to the traditional concept of overloading but relies on type hints."
      ],
      "metadata": {
        "id": "f7Jv5IbH3Iyd"
      }
    },
    {
      "cell_type": "code",
      "source": [
        "from functools import singledispatch\n",
        "\n",
        "@singledispatch\n",
        "def my_function(arg):\n",
        "    print(\"Generic function:\", arg)\n",
        "\n",
        "@my_function.register(int)\n",
        "def _(arg):\n",
        "    print(\"Integer argument:\", arg)\n",
        "\n",
        "@my_function.register(str)\n",
        "def _(arg):\n",
        "    print(\"String argument:\", arg)\n",
        "\n",
        "my_function(10)    # Output: Integer argument: 10\n",
        "my_function(\"hello\") # Output: String argument: hello\n",
        "my_function([1,2,3]) # Output: Generic function: [1, 2, 3] (no specific dispatch)"
      ],
      "metadata": {
        "id": "5gLEazX23MAf"
      },
      "execution_count": null,
      "outputs": []
    },
    {
      "cell_type": "markdown",
      "source": [
        "In summary:\n",
        "\n",
        "While Python doesn't have traditional method overloading, it provides alternative mechanisms like default arguments, variable-length arguments, and the singledispatch decorator to handle different function call scenarios effectively. These approaches are more idiomatic Pythonic ways to achieve the flexibility that method overloading provides in other languages."
      ],
      "metadata": {
        "id": "VhklAv_I3PW2"
      }
    },
    {
      "cell_type": "markdown",
      "source": [
        "# 12 What is method overriding in OOP?\n",
        "Answer\n"
      ],
      "metadata": {
        "id": "0_NiXv1H3QqJ"
      }
    },
    {
      "cell_type": "markdown",
      "source": [
        "Method overriding is a key concept in object-oriented programming (OOP) that allows a subclass (or derived class) to provide a specific implementation for a method that is already defined in its superclass (or base class).  Essentially, the subclass \"overrides\" the superclass's method with its own version.\n",
        "\n",
        "Here's a breakdown of the key aspects:\n",
        "\n",
        "Inheritance Required: Method overriding is only possible in the context of inheritance. The subclass must inherit from the superclass to override its methods.\n",
        "Same Method Signature: The overriding method in the subclass must have the same name and parameter list (number and types of arguments) as the method in the superclass that it's overriding.\n",
        "Specialized Behavior: The purpose of method overriding is to allow the subclass to provide a specialized implementation of a behavior that is already defined in a more general way in the superclass.\n",
        "Runtime Polymorphism: Method overriding is a form of runtime polymorphism (also known as dynamic polymorphism or late binding). The decision of which method to call (the superclass's or the subclass's version) is made at runtime based on the actual type of the object.\n",
        "Example (Python):"
      ],
      "metadata": {
        "id": "KlOcHYvq4iJi"
      }
    },
    {
      "cell_type": "code",
      "source": [
        "class Animal:  # Superclass\n",
        "    def make_sound(self):\n",
        "        print(\"Generic animal sound\")\n",
        "\n",
        "class Dog(Animal):  # Subclass inheriting from Animal\n",
        "    def make_sound(self):  # Overriding the make_sound method\n",
        "        print(\"Woof!\")\n",
        "\n",
        "class Cat(Animal):  # Another subclass inheriting from Animal\n",
        "    def make_sound(self):  # Overriding the make_sound method\n",
        "        print(\"Meow!\")\n",
        "\n",
        "# Creating objects\n",
        "my_animal = Animal()\n",
        "my_dog = Dog()\n",
        "my_cat = Cat()\n",
        "\n",
        "my_animal.make_sound()  # Output: Generic animal sound\n",
        "my_dog.make_sound()    # Output: Woof!  (Overridden by Dog)\n",
        "my_cat.make_sound()    # Output: Meow! (Overridden by Cat)\n",
        "\n",
        "# Demonstrating runtime polymorphism\n",
        "animals = [my_animal, my_dog, my_cat]\n",
        "for animal in animals:\n",
        "    animal.make_sound()  # Calls the appropriate version at runtime"
      ],
      "metadata": {
        "id": "_AoLIaaO4mRA"
      },
      "execution_count": null,
      "outputs": []
    },
    {
      "cell_type": "markdown",
      "source": [
        "Explanation:\n",
        "\n",
        "Animal Class: The Animal class defines a make_sound() method that prints a generic sound.\n",
        "Dog and Cat Classes: The Dog and Cat classes inherit from Animal. They both override the make_sound() method, providing their own specific implementations (\"Woof!\" and \"Meow!\").\n",
        "Object Creation: We create instances of all three classes.\n",
        "Method Calls: When we call make_sound() on a Dog object, the Dog class's version of the method is executed, not the Animal class's version. This is because of method overriding. The same applies to the Cat object.\n",
        "Runtime Polymorphism: The loop at the end demonstrates runtime polymorphism. Even though the animals list holds objects of type Animal, when animal.make_sound() is called, the actual type of the object at that moment determines which version of make_sound() is executed.\n",
        "Benefits of Method Overriding:\n",
        "\n",
        "Specialized Behavior: Allows subclasses to provide custom implementations for methods inherited from superclasses, tailoring the behavior to the specific needs of the subclass.\n",
        "Polymorphism: Enables you to treat objects of different classes in a uniform way through a common interface (the method name), while still allowing for variations in behavior.\n",
        "Code Extensibility: Makes it easier to extend the functionality of existing classes without modifying them directly. You can create subclasses that add or modify behavior as needed.\n",
        "Method overriding is a powerful tool for creating flexible and maintainable class hierarchies in OOP. It's essential for implementing polymorphism and building robust software systems.\n",
        "\n",
        "\n",
        "Sources and related content\n"
      ],
      "metadata": {
        "id": "KUbYT3oz4pdz"
      }
    },
    {
      "cell_type": "markdown",
      "source": [
        "# 13 What is property decorator in python?\n",
        "Answer\n"
      ],
      "metadata": {
        "id": "W6F8wFNR4yJx"
      }
    },
    {
      "cell_type": "markdown",
      "source": [
        "The @property decorator in Python is a powerful tool that allows you to define getter, setter, and deleter methods for class attributes in a more Pythonic and concise way. It lets you access and modify attributes like regular instance variables, but behind the scenes, it executes methods, giving you fine-grained control over attribute access.\n",
        "\n",
        "Why use @property?\n",
        "\n",
        "Encapsulation: It helps enforce encapsulation by allowing you to control how attributes are accessed and modified. You can add validation, transformations, or other logic within the getter and setter methods.\n",
        "Read-only attributes: You can create read-only attributes by defining only a getter method and not a setter.\n",
        "Computed attributes: You can create attributes that are computed dynamically based on other attributes or values.\n",
        "Simplified syntax: It provides a cleaner and more intuitive syntax for accessing and modifying attributes, making your code more readable.\n",
        "How to use @property:"
      ],
      "metadata": {
        "id": "GpM7evdM5JGJ"
      }
    },
    {
      "cell_type": "code",
      "source": [
        "class MyClass:\n",
        "    def __init__(self, value):\n",
        "        self._value = value  # We use a \"protected\" name convention\n",
        "\n",
        "    @property\n",
        "    def value(self):  # Getter method\n",
        "        return self._value\n",
        "\n",
        "    @value.setter\n",
        "    def value(self, new_value):  # Setter method\n",
        "        if new_value > 100:\n",
        "            raise ValueError(\"Value cannot exceed 100\")\n",
        "        self._value = new_value\n",
        "\n",
        "    @value.deleter\n",
        "    def value(self):  # Deleter method (optional)\n",
        "        del self._value\n",
        "\n",
        "# Example usage\n",
        "obj = MyClass(50)\n",
        "\n",
        "print(obj.value)  # Accessing like a regular attribute (using the getter)  Output: 50\n",
        "\n",
        "obj.value = 75    # Setting like a regular attribute (using the setter)\n",
        "print(obj.value)  # Output: 75\n",
        "\n",
        "# obj.value = 150  # This will raise a ValueError\n",
        "\n",
        "del obj.value     # Deleting the attribute (using the deleter - rarely used)\n",
        "# print(obj.value) # This will now raise an AttributeError since obj.value is deleted."
      ],
      "metadata": {
        "id": "rsacVWv_5QAU"
      },
      "execution_count": null,
      "outputs": []
    },
    {
      "cell_type": "markdown",
      "source": [
        "Explanation:\n",
        "\n",
        "_value (Protected Attribute): We use a single underscore _ prefix as a naming convention to indicate that _value is intended for internal use within the class.  It's not strictly private in Python (name mangling is used for double underscores), but it signals that you should access it via the property.\n",
        "\n",
        "@property Decorator: The @property decorator is used to define the getter method for the value property.  When you access obj.value, this method is automatically called.\n",
        "\n",
        "@value.setter Decorator: The @value.setter decorator is used to define the setter method for the value property.  When you assign a value to obj.value, this method is automatically called.  Inside the setter, we can add validation (like the check for new_value > 100 in the example).\n",
        "\n",
        "@value.deleter Decorator (Optional): The @value.deleter decorator allows you to define how the del obj.value statement behaves. It's less frequently used.\n",
        "\n",
        "Key Advantages:\n",
        "\n",
        "Clean Syntax: You access and modify the attribute using a simple and natural syntax (e.g., obj.value = ... instead of obj.set_value(...)).\n",
        "Data Validation: You can add validation logic within the setter to ensure that attribute values are valid.\n",
        "Computed Attributes: You can create attributes that are calculated dynamically.\n",
        "Abstraction: You can change the internal implementation (how the value is stored) without affecting the external interface (how users interact with the attribute). This is very useful for refactoring.\n",
        "The @property decorator is a powerful and commonly used feature in Python for creating well-designed and maintainable classes.  It's a core part of writing idiomatic Python code."
      ],
      "metadata": {
        "id": "oIPt-9QK5S7u"
      }
    },
    {
      "cell_type": "markdown",
      "source": [
        "# 14 Why is polymorphism inportantin OOP?\n",
        "Answer\n"
      ],
      "metadata": {
        "id": "GXY0HEqR5UNV"
      }
    },
    {
      "cell_type": "markdown",
      "source": [
        "Polymorphism is a crucial concept in object-oriented programming (OOP) for several important reasons:\n",
        "\n",
        "1. Code Reusability and Flexibility:\n",
        "\n",
        "Polymorphism allows you to write code that can work with objects of different classes without needing to know their specific type. This means you can write more generic and reusable code that can be applied to a wider range of objects.\n",
        "For example, imagine you have a program that deals with different types of shapes (circles, squares, triangles). With polymorphism, you can write a single function that can calculate the area of any shape, regardless of its specific type, as long as they all have a common method for calculating area.\n",
        "2. Extensibility and Maintainability:\n",
        "\n",
        "\n",
        "Polymorphism makes it easier to extend your code with new classes without modifying existing code. If you need to add a new type of shape to your program, you can simply create a new class that inherits from the base shape class and implements the area calculation method. The existing code that uses the shapes will work with the new shape without any modifications.\n",
        "This makes your code more maintainable because you can add new features or modify existing ones without affecting other parts of the system.\n",
        "3. Abstraction and Simplicity:\n",
        "\n",
        "Polymorphism allows you to work with objects at a higher level of abstraction, focusing on their behavior rather than their specific type. This makes your code easier to understand and reason about.\n",
        "By treating objects as instances of a common superclass or interface, you can write code that focuses on the shared behaviors and capabilities provided by the superclass or interface, abstracting away the implementation details of specific classes.\n",
        "4. Loose Coupling:\n",
        "\n",
        "Polymorphism reduces dependencies between classes, making your code more modular and easier to maintain. When you use polymorphism, your code doesn't need to know the specific type of an object it's working with, so it's not tightly coupled to that specific class.\n",
        "This means that you can change the implementation of a class without affecting other parts of the program, as long as it still adheres to the common interface or superclass.\n",
        "5. Real-World Modeling:\n",
        "\n",
        "Polymorphism allows you to model real-world scenarios more accurately. In the real world, objects often have multiple forms or behaviors. For example, a \"person\" can be a \"student,\" an \"employee,\" or a \"parent,\" and they may exhibit different behaviors in each of these roles. Polymorphism allows you to represent these different roles and behaviors in your code.\n",
        "In summary, polymorphism is a powerful tool in OOP that promotes code reusability, flexibility, extensibility, and maintainability. It allows you to write code that is more abstract, simpler, and easier to understand. It's a key concept for building robust and scalable software systems.\n",
        "\n",
        "\n",
        "Sources and related content\n"
      ],
      "metadata": {
        "id": "k8q2y6cs5qlb"
      }
    },
    {
      "cell_type": "markdown",
      "source": [
        "# 15 What is an abstract class in python?\n",
        "Answer"
      ],
      "metadata": {
        "id": "-_V5A7wz5tQx"
      }
    },
    {
      "cell_type": "markdown",
      "source": [
        "In Python, an abstract class is a class that cannot be instantiated directly. It serves as a blueprint or template for other classes, defining a common interface and structure that its subclasses must adhere to.\n",
        "\n",
        "Key characteristics of abstract classes:\n",
        "\n",
        "Cannot be instantiated: You cannot create an object of an abstract class directly. It's meant to be a base for other classes.\n",
        "May contain abstract methods: An abstract class can have abstract methods, which are methods without a concrete implementation. These methods act as placeholders that subclasses must override.\n",
        "Enforces a contract: Abstract classes define a contract that all their subclasses must follow. This ensures consistency and uniformity across different implementations.\n",
        "How to define abstract classes in Python:\n",
        "\n",
        "Python provides the abc module (Abstract Base Classes) to define abstract classes. You need to import the ABC class and use the @abstractmethod decorator to define abstract methods."
      ],
      "metadata": {
        "id": "OzwfoiOM6Rc9"
      }
    },
    {
      "cell_type": "code",
      "source": [
        "from abc import ABC, abstractmethod\n",
        "\n",
        "class Shape(ABC):  # Abstract class\n",
        "    @abstractmethod\n",
        "    def area(self):  # Abstract method\n",
        "        pass\n",
        "\n",
        "class Circle(Shape):  # Concrete class inheriting from Shape\n",
        "    def __init__(self, radius):\n",
        "        self.radius = radius\n",
        "\n",
        "    def area(self):  # Implementing the abstract method\n",
        "        return 3.14 * self.radius**2\n",
        "\n",
        "class Square(Shape):  # Another concrete class inheriting from Shape\n",
        "    def __init__(self, side):\n",
        "        self.side = side\n",
        "\n",
        "    def area(self):  # Implementing the abstract method\n",
        "        return self.side**2\n",
        "\n",
        "# shape = Shape()  # This will raise a TypeError because Shape is abstract\n",
        "\n",
        "circle = Circle(5)\n",
        "print(circle.area())  # Output: 78.5\n",
        "\n",
        "square = Square(4)\n",
        "print(square.area())  # Output: 16"
      ],
      "metadata": {
        "id": "DLKAW1rD6VqR"
      },
      "execution_count": null,
      "outputs": []
    },
    {
      "cell_type": "markdown",
      "source": [
        "Explanation:\n",
        "\n",
        "ABC Class: We import the ABC class from the abc module and make our Shape class inherit from it. This makes Shape an abstract base class.\n",
        "@abstractmethod Decorator: We use the @abstractmethod decorator to mark the area() method as an abstract method. This means that any class inheriting from Shape must provide its own implementation of the area() method.\n",
        "Concrete Classes: The Circle and Square classes inherit from Shape and provide concrete implementations for the area() method.\n",
        "Why use abstract classes?\n",
        "\n",
        "Enforce a common interface: Abstract classes ensure that all subclasses implement certain methods, providing a consistent interface for working with objects of different classes.\n",
        "Code organization: They help organize code by grouping related classes under a common abstract base.\n",
        "Design and planning: Abstract classes are useful for planning the structure of your class hierarchy and defining the essential methods that your classes should have.\n",
        "Abstract classes are a powerful tool for building flexible and maintainable object-oriented systems in Python. They help you define a blueprint for your classes and ensure that they adhere to a common structure and behavior.\n",
        "\n",
        "\n",
        "Sources and related content\n"
      ],
      "metadata": {
        "id": "Z6z3jPrD6bot"
      }
    },
    {
      "cell_type": "markdown",
      "source": [
        "# 16 What is advantages of OOP?\n",
        "Answer\n",
        "Object-Oriented Programming (OOP) offers several significant advantages that contribute to creating more robust, maintainable, and scalable software. Here's a breakdown of the key benefits:\n",
        "\n",
        "1. Modularity:\n",
        "\n",
        "OOP encourages breaking down complex problems into smaller, self-contained units called objects. Each object represents a specific entity or concept, making the code easier to understand, organize, and manage. This modularity simplifies development and reduces the risk of unintended side effects when changes are made.\n",
        "2. Reusability:\n",
        "\n",
        "Objects can be reused in different parts of the program or even in other programs. This saves development time and effort, as you don't have to rewrite code for similar functionalities. Classes act as blueprints, and you can create multiple instances (objects) from them as needed.\n",
        "3. Encapsulation (Data Hiding):\n",
        "\n",
        "Encapsulation bundles data (attributes) and the methods (functions) that operate on that data within the object. It also controls access to the internal data of an object, preventing direct and uncontrolled modification from outside. This protects data integrity and reduces the risk of errors. You interact with objects through well-defined interfaces (methods).\n",
        "4. Abstraction:\n",
        "\n",
        "Abstraction simplifies complex systems by hiding unnecessary implementation details and showing only the essential features to the user. You interact with objects at a higher level, without needing to know all the intricate details of how they work internally. This simplifies the development process and makes the code easier to understand.\n",
        "5. Inheritance:\n",
        "\n",
        "Inheritance allows you to create new classes (child classes or derived classes) based on existing ones (parent classes or base classes). The child class inherits the properties and behaviors of the parent class, allowing you to reuse code and extend functionality without modifying the original class. This promotes code reusability and reduces redundancy.\n",
        "6. Polymorphism:\n",
        "\n",
        "Polymorphism allows objects of different classes to be treated as objects of a common type. This enables you to write code that can work with objects of different classes without needing to know their specific type, as long as they share a common interface. This increases flexibility and makes the code more adaptable to changes.\n",
        "7. Maintainability:\n",
        "\n",
        "OOP code is generally easier to maintain because it is modular, well-organized, and less prone to errors due to encapsulation and data hiding. Changes to one part of the system are less likely to affect other parts.\n",
        "8. Extensibility:\n",
        "\n",
        "It's easier to add new features or modify existing ones in an OOP system. You can create new classes that inherit from existing ones, extending the functionality without modifying the original code. This makes the system more adaptable to future requirements.\n",
        "9. Real-World Modeling:\n",
        "\n",
        "OOP concepts map well to real-world entities and their interactions. Objects can represent real-world objects, making it easier to model complex systems and solve real-world problems.\n",
        "10. Improved Software Development Process:\n",
        "\n",
        "OOP promotes a more structured and organized approach to software development. It facilitates collaboration among team members, as different developers can work on different objects or classes independently.\n",
        "While OOP offers many advantages, it's worth noting that it also has some potential drawbacks, such as increased complexity in some cases and a learning curve for mastering the concepts.\n",
        "\n",
        " However, the benefits generally outweigh the drawbacks, especially for larger and more complex projects.\n",
        "\n",
        "\n",
        "Sources and related content\n"
      ],
      "metadata": {
        "id": "Q1SZNGUy6csj"
      }
    },
    {
      "cell_type": "markdown",
      "source": [
        "# 17 What is the difference between a class variable and an  instance variable?\n",
        "Answer\n"
      ],
      "metadata": {
        "id": "whL_RS_Y66eL"
      }
    },
    {
      "cell_type": "markdown",
      "source": [
        "In Python (and other object-oriented languages), class variables and instance variables are both used to store data associated with a class, but they differ significantly in their scope and how they are accessed:\n",
        "\n",
        "1. Instance Variables:\n",
        "\n",
        "Belong to individual instances (objects) of the class: Each object created from the class gets its own separate copy of the instance variables. Changes to an instance variable in one object do not affect the instance variables of other objects.\n",
        "Accessed using self: Inside methods of the class, instance variables are accessed and modified using the self keyword (e.g., self.my_variable).\n",
        "Initialized within the constructor (__init__): Instance variables are typically initialized within the class's constructor (__init__ method). This ensures that each object starts with its own set of initialized variables.\n",
        "2. Class Variables:\n",
        "\n",
        "Belong to the class itself: There is only one copy of a class variable, shared by all instances (objects) of the class. If you modify a class variable, the change is reflected for all objects of that class.\n",
        "Accessed using the class name or self: Class variables can be accessed using the class name (e.g., MyClass.my_variable) or through an instance of the class (e.g., self.my_variable, but this is generally discouraged as it can be misleading). It's best practice to use the class name to avoid confusion.\n",
        "Defined outside methods (usually at the class level): Class variables are defined within the class definition but outside of any methods.\n"
      ],
      "metadata": {
        "id": "791RhXTs7WE3"
      }
    },
    {
      "cell_type": "code",
      "source": [
        "class MyClass:\n",
        "    class_variable = 0  # Class variable\n",
        "\n",
        "    def __init__(self, instance_variable):\n",
        "        self.instance_variable = instance_variable  # Instance variable\n",
        "\n",
        "# Creating objects\n",
        "obj1 = MyClass(10)\n",
        "obj2 = MyClass(20)\n",
        "\n",
        "# Accessing and modifying instance variables\n",
        "print(obj1.instance_variable)  # Output: 10\n",
        "print(obj2.instance_variable)  # Output: 20\n",
        "\n",
        "obj1.instance_variable = 50\n",
        "print(obj1.instance_variable)  # Output: 50 (obj2 is unchanged)\n",
        "print(obj2.instance_variable)  # Output: 20\n",
        "\n",
        "# Accessing and modifying class variable\n",
        "print(MyClass.class_variable)  # Output: 0\n",
        "print(obj1.class_variable)    # Output: 0 (but better to use MyClass.class_variable)\n",
        "print(obj2.class_variable)    # Output: 0 (but better to use MyClass.class_variable)\n",
        "\n",
        "MyClass.class_variable = 100\n",
        "print(MyClass.class_variable)  # Output: 100\n",
        "print(obj1.class_variable)    # Output: 100 (changed for all instances!)\n",
        "print(obj2.class_variable)    # Output: 100 (changed for all instances!)\n",
        "\n",
        "obj1.class_variable = 200  # This creates a *new* instance variable on obj1\n",
        "print(MyClass.class_variable)  # Output: 100 (class variable is unchanged)\n",
        "print(obj1.class_variable)    # Output: 200 (obj1 now has its own instance variable)\n",
        "print(obj2.class_variable)    # Output: 100 (obj2 still refers to the class variable)\n"
      ],
      "metadata": {
        "id": "yJcRfa0M7arA"
      },
      "execution_count": null,
      "outputs": []
    },
    {
      "cell_type": "markdown",
      "source": [
        "# 18 What is multiple inheritance in python ?\n",
        "Answer\n",
        "Multiple inheritance in Python is a feature that allows a class to inherit from multiple parent classes (also known as base classes or superclasses). This means the child class (or derived class) can acquire attributes and methods from all of its parent classes.  It's like a child inheriting traits from both parents.\n",
        "\n",
        "How it Works:\n",
        "\n",
        "When a class inherits from multiple classes, it combines the attributes and methods of all its parent classes. If there are any naming conflicts (i.e., two parent classes have methods or attributes with the same name), Python uses a method resolution order (MRO) to determine which one to use.\n",
        "\n",
        "Method Resolution Order (MRO):\n",
        "\n",
        "The MRO is the order in which Python searches for methods in a class hierarchy.  It's crucial for handling name conflicts in multiple inheritance. Python uses the C3 linearization algorithm to determine the MRO.  The MRO ensures that:\n",
        "\n",
        "The class itself is searched first.\n",
        "Parent classes are searched in the order they are listed in the class definition.\n",
        "object (the ultimate base class in Python) is always the last class searched.\n",
        "Example:\n"
      ],
      "metadata": {
        "id": "HWncZss97ea_"
      }
    },
    {
      "cell_type": "code",
      "source": [
        "class Flyable:\n",
        "    def fly(self):\n",
        "        print(\"I can fly\")\n",
        "\n",
        "class Swimmable:\n",
        "    def swim(self):\n",
        "        print(\"I can swim\")\n",
        "\n",
        "class Bird(Flyable):  # Single inheritance\n",
        "    pass\n",
        "\n",
        "class Fish(Swimmable):  # Single inheritance\n",
        "    pass\n",
        "\n",
        "class FlyingFish(Flyable, Swimmable):  # Multiple inheritance\n",
        "    pass\n",
        "\n",
        "class Penguin(Bird): # Single inheritance\n",
        "    def fly(self): # Overriding the inherited method\n",
        "        print(\"I can't fly\")\n",
        "\n",
        "# Creating objects\n",
        "bird = Bird()\n",
        "fish = Fish()\n",
        "flying_fish = FlyingFish()\n",
        "penguin = Penguin()\n",
        "\n",
        "bird.fly()        # Output: I can fly\n",
        "fish.swim()        # Output: I can swim\n",
        "flying_fish.fly()  # Output: I can fly\n",
        "flying_fish.swim()  # Output: I can swim\n",
        "penguin.fly()     # Output: I can't fly (Overridden method)\n",
        "\n",
        "print(FlyingFish.__mro__)  # Output: (<class '__main__.FlyingFish'>, <class '__main__.Flyable'>, <class '__main__.Swimmable'>, <class 'object'>)"
      ],
      "metadata": {
        "id": "MkuSOX1K72rP"
      },
      "execution_count": null,
      "outputs": []
    },
    {
      "cell_type": "markdown",
      "source": [
        "Explanation:\n",
        "\n",
        "Flyable and Swimmable define abilities.\n",
        "Bird inherits the ability to fly.\n",
        "Fish inherits the ability to swim.\n",
        "FlyingFish inherits from both Flyable and Swimmable, so it can both fly and swim.\n",
        "Penguin inherits from Bird but overrides the fly() method.\n",
        "The __mro__ attribute shows the method resolution order for the FlyingFish class. Python will search for methods in this order.\n",
        "Advantages of Multiple Inheritance:\n",
        "\n",
        "Code Reusability: Allows you to combine functionalities from multiple sources, reducing code duplication.\n",
        "Modeling Complex Relationships: Useful for modeling real-world scenarios where objects can have multiple roles or characteristics.\n",
        "Disadvantages of Multiple Inheritance:\n",
        "\n",
        "Complexity: Can make class hierarchies more complex and harder to understand, especially when there are name conflicts.\n",
        "The Diamond Problem: A specific problem that can occur in multiple inheritance where a class inherits from two classes that have a common ancestor. The MRO is crucial for resolving this. (Imagine classes A, B, and C. B and C both inherit from A. D inherits from both B and C. If B and C both override a method from A, which version does D get?)\n",
        "Tight Coupling: Can lead to tight coupling between classes if not used carefully, making it harder to modify or refactor code later.\n",
        "When to Use Multiple Inheritance:\n",
        "\n",
        "Use multiple inheritance judiciously. It's most appropriate when combining distinct, orthogonal functionalities.  If the relationships between classes become too complex, it might be better to consider alternative design patterns, like composition.  Composition (having a class contain instances of other classes as attributes) is often a preferred alternative to inheritance in many situations as it leads to less coupling and more flexibility.\n",
        "\n",
        "\n",
        "Sources and related content\n"
      ],
      "metadata": {
        "id": "mWmFSJxx8ER1"
      }
    },
    {
      "cell_type": "markdown",
      "source": [
        "**19 Explain the purpose of _ _str_ _ and _ _repr_ _method in Python?**\n",
        "Answer\n"
      ],
      "metadata": {
        "id": "IQA71HelBImj"
      }
    },
    {
      "cell_type": "markdown",
      "source": [
        "Answer\n",
        "Both __str__ and __repr__ are special methods (also called \"dunder\" methods, short for \"double underscore\") in Python used for string representation of objects.  They define how an object should be represented as a string when you use certain built-in functions or when you simply print the object.  However, they serve slightly different purposes and are used in different contexts:\n",
        "\n",
        "__str__(self):\n",
        "\n",
        "Purpose: This method is intended to provide a user-friendly, informal string representation of the object. It's what you'd want to display to an end-user. Think of it as the \"nice\" or \"readable\" version.\n",
        "Usage: str(object) calls this method. It's also implicitly used when you print(object) or when you use format() with the object.\n",
        "Example: For a Person object, __str__ might return something like \"John Doe (age 30)\".\n",
        "Fallback: If __str__ is not defined, Python will fall back to using __repr__.\n",
        "__repr__(self):\n",
        "\n",
        "Purpose: This method is intended to provide a developer-friendly, unambiguous string representation of the object. It should ideally contain enough information to recreate the object. Think of it as the \"official\" or \"debug\" version. It's often used in debugging or when inspecting the object in an interactive interpreter.\n",
        "Usage: repr(object) calls this method. It's also used when you type an object's name in the interactive Python interpreter and press Enter.\n",
        "Example: For the same Person object, __repr__ might return something like \"Person('John Doe', 30)\". Notice how this looks like the code to create the object.\n",
        "Fallback: If neither __str__ nor __repr__ is defined, Python provides a default representation that includes the object's type and memory address."
      ],
      "metadata": {
        "id": "Nv6Ht-ZwEpSt"
      }
    },
    {
      "cell_type": "code",
      "source": [
        "class Person:\n",
        "    def __init__(self, name, age):\n",
        "        self.name = name\n",
        "        self.age = age\n",
        "\n",
        "    def __str__(self):\n",
        "        return f\"{self.name} (age {self.age})\"\n",
        "\n",
        "    def __repr__(self):\n",
        "        return f\"Person('{self.name}', {self.age})\"\n",
        "\n",
        "p = Person(\"Alice\", 25)\n",
        "\n",
        "print(str(p))  # Output: Alice (age 25)\n",
        "print(repr(p)) # Output: Person('Alice', 25)\n",
        "print(p)       # Output: Alice (age 25)  (because print() calls str())\n",
        "\n",
        "p2 = eval(repr(p)) # creates a new person object using the repr string\n",
        "print(p2) # Output: Alice (age 25)\n",
        "print(p == p2) # Output: False (because they are different objects in memory)\n",
        "print(p.name == p2.name and p.age == p2.age) # Output: True (because they have the same name and age)"
      ],
      "metadata": {
        "id": "piehTHixEu28"
      },
      "execution_count": null,
      "outputs": []
    },
    {
      "cell_type": "markdown",
      "source": [
        "# **20 What is the significance of the  'super()'function and python?**\n",
        "Answer\n",
        "The super() function in Python is a crucial tool in object-oriented programming, especially when working with inheritance.  It provides a clean and reliable way to interact with parent (or super) classes within a class hierarchy.  Here's a breakdown of its significance:\n",
        "\n",
        "1. Ensuring Proper Initialization (Constructors):\n",
        "\n",
        "When a class inherits from another (a parent class), it often needs to initialize attributes defined in the parent class as well as its own attributes.  super() allows you to call the parent class's __init__ method (the constructor) to handle the parent's initialization.  This is essential to avoid redundant code and ensure the parent class is correctly set up before the child class's initialization begins."
      ],
      "metadata": {
        "id": "w2MUemqSE0gr"
      }
    },
    {
      "cell_type": "code",
      "source": [
        "class Animal:\n",
        "    def __init__(self, name):\n",
        "        self.name = name\n",
        "        print(\"Animal initialized\")\n",
        "\n",
        "class Dog(Animal):\n",
        "    def __init__(self, name, breed):\n",
        "        super().__init__(name)  # Calls Animal's __init__\n",
        "        self.breed = breed\n",
        "        print(\"Dog initialized\")\n",
        "\n",
        "my_dog = Dog(\"Buddy\", \"Golden Retriever\")\n",
        "print(my_dog.name)  # Output: Buddy\n",
        "print(my_dog.breed) # Output: Golden Retriever"
      ],
      "metadata": {
        "id": "ua_yWwfkGgEw"
      },
      "execution_count": null,
      "outputs": []
    },
    {
      "cell_type": "markdown",
      "source": [
        "In this example, super().__init__(name) within Dog's __init__ calls Animal's __init__, ensuring the name attribute is initialized in the parent class. Without super(), you'd have to manually duplicate the parent's initialization logic, which can become messy and error-prone, especially with complex inheritance.\n",
        "\n",
        "2. Method Resolution Order (MRO):\n",
        "\n",
        "Python uses MRO to determine the order in which methods are called in a class hierarchy, particularly when multiple inheritance is involved.  super() ensures that methods are called in the correct order according to the MRO. This prevents issues like the \"diamond problem\" (where a class inherits from two classes that share a common ancestor).\n",
        "\n"
      ],
      "metadata": {
        "id": "GjJUc22uGj2k"
      }
    },
    {
      "cell_type": "code",
      "source": [
        "class A:\n",
        "    def do_something(self):\n",
        "        print(\"A's method\")\n",
        "\n",
        "class B(A):\n",
        "    def do_something(self):\n",
        "        print(\"B's method\")\n",
        "        super().do_something()  # Calls A's do_something\n",
        "\n",
        "class C(A):\n",
        "    def do_something(self):\n",
        "        print(\"C's method\")\n",
        "        super().do_something()  # Calls A's do_something\n",
        "\n",
        "class D(B, C):  # Multiple inheritance\n",
        "    def do_something(self):\n",
        "        print(\"D's method\")\n",
        "        super().do_something()  # Calls B's do_something\n",
        "\n",
        "d = D()\n",
        "d.do_something()\n",
        "# Output:\n",
        "# D's method\n",
        "# B's method\n",
        "# C's method\n",
        "# A's method"
      ],
      "metadata": {
        "id": "7TzsM12CGmh4"
      },
      "execution_count": null,
      "outputs": []
    },
    {
      "cell_type": "markdown",
      "source": [
        "# ***21  What is the significance of the  _  _del_ _ method in python?***\n",
        "Answer\n",
        "The __del__ method in Python is a special method (a \"dunder\" method, short for \"double underscore\") that is called when an object is about to be garbage collected.  It's also known as the destructor.  However, its significance and proper usage are often misunderstood, and it's generally best to avoid using it if possible.\n",
        "\n",
        "Here's a breakdown of its purpose and the important caveats:\n",
        "\n",
        "Purpose:\n",
        "\n",
        "The primary (and often overstated) purpose of __del__ is to perform cleanup actions just before an object is garbage collected.  This might include:\n",
        "\n",
        "Closing files or network connections.\n",
        "Releasing resources (like locks or other system handles).\n",
        "Flushing buffers.\n",
        "How it Works:\n",
        "\n",
        "When an object's reference count drops to zero (meaning no other parts of the program are referencing it), the garbage collector eventually detects this and prepares to reclaim the object's memory.  Just before the memory is actually deallocated, the garbage collector calls the object's __del__ method (if it's defined).\n",
        "\n",
        "Significant Caveats and Why You Should Avoid It (Mostly):\n",
        "\n",
        "Unpredictable Timing:  You have no control over when __del__ will be called.  The garbage collector's operation is non-deterministic.  It might run frequently, or it might be delayed.  Relying on __del__ for time-sensitive cleanup is a recipe for disaster.  Resources might not be released promptly, causing problems.\n",
        "\n",
        "Resurrection:  It's possible to \"resurrect\" an object within __del__ by creating a new reference to it.  This can lead to even more unpredictable behavior and make debugging extremely difficult.\n",
        "\n",
        "Circular Dependencies:  If objects are involved in circular references (e.g., object A references object B, and object B references object A), the garbage collector might not be able to collect them, even if their reference counts have dropped to zero.  This is because the cyclic garbage collector in Python has to run in addition to the reference counting garbage collector and it may not always be able to break cycles immediately. If __del__ methods are involved in such cycles it can make debugging even more complex.\n",
        "\n",
        "Exceptions in __del__:  If an exception occurs within __del__, it's printed to sys.stderr (usually the console), but it's often missed because the program might be in the process of shutting down.  This can mask serious bugs.\n",
        "\n",
        "__del__ is not guaranteed to be called: In some situations, especially when the program is exiting, the garbage collector might not run at all.  Therefore, __del__ should never be relied upon for essential cleanup.\n",
        "\n",
        "Better Alternatives:\n",
        "\n",
        "Instead of relying on __del__, use these much better approaches:\n",
        "\n",
        "Context Managers (with statement):  The with statement is the preferred way to manage resources like files, network connections, and locks.  It ensures that cleanup actions are always performed, even if exceptions occur."
      ],
      "metadata": {
        "id": "DfA4O9cbHEOi"
      }
    },
    {
      "cell_type": "code",
      "source": [
        "with open(\"my_file.txt\", \"w\") as f:\n",
        "    f.write(\"Hello, world!\")  # File is automatically closed when the block exits"
      ],
      "metadata": {
        "id": "ouns7RThHRrj"
      },
      "execution_count": null,
      "outputs": []
    },
    {
      "cell_type": "markdown",
      "source": [
        "Explicit close() or release() methods:  Define explicit methods for releasing resources and call them when you're finished with the object.  This gives you complete control over the timing of cleanup.\n",
        "\n"
      ],
      "metadata": {
        "id": "rIUlQGCMHUjE"
      }
    },
    {
      "cell_type": "code",
      "source": [
        "class MyResource:\n",
        "    def __init__(self):\n",
        "        # Acquire resource\n",
        "\n",
        "    def release(self):\n",
        "        # Release resource\n",
        "\n",
        "resource = MyResource()\n",
        "# Use the resource\n",
        "resource.release() # Explicitly release the resource"
      ],
      "metadata": {
        "id": "3xLk2IVpHWh4"
      },
      "execution_count": null,
      "outputs": []
    },
    {
      "cell_type": "markdown",
      "source": [
        "When __del__ Might Be Used (Rarely and with Extreme Caution):\n",
        "\n",
        "In very niche situations, if you absolutely must perform some cleanup just before an object is deallocated and you understand the limitations and risks, you might consider using __del__.  However, it should be a last resort and used with extreme caution.  Even then, you should still have robust cleanup mechanisms in place that don't rely on __del__.\n",
        "\n",
        "In summary:  __del__ is a powerful but dangerous tool.  Its non-deterministic behavior, potential for resurrection, and other issues make it a poor choice for resource management in most cases.  Use context managers and explicit cleanup methods instead.  Treat __del__ as a last resort and only use it if you fully understand the risks involved.  It's best to avoid it altogether in most situations."
      ],
      "metadata": {
        "id": "F4dv8ObCHZJO"
      }
    },
    {
      "cell_type": "markdown",
      "source": [
        "# **22 What is the difference between @ staticmethod and @classmethod in Python?**\n",
        "Answer\n",
        "Both @staticmethod and @classmethod are decorators in Python used to define methods within a class, but they differ significantly in how they are called and what arguments they receive.\n",
        "\n",
        "@staticmethod:\n",
        "\n",
        "Behavior: A static method is bound to the class but does not receive an implicit first argument (neither the instance self nor the class cls). It's essentially a regular function that's placed within the class's namespace.\n",
        "Usage: Static methods are used when you have a method that's logically related to the class but doesn't need access to the instance or class data. They're often used for utility functions that operate on data related to the class but are independent of any specific instance.\n",
        "Arguments: It doesn't receive any automatic arguments. You pass arguments to it explicitly, just like a regular function.\n",
        "Calling: You call it on the class itself or on an instance of the class."
      ],
      "metadata": {
        "id": "EQe3O2NlH1sN"
      }
    },
    {
      "cell_type": "code",
      "source": [
        "class MyClass:\n",
        "    @staticmethod\n",
        "    def my_static_method(arg1, arg2):\n",
        "        # Does something with arg1 and arg2, but doesn't use self or cls\n",
        "        print(f\"Static method: {arg1}, {arg2}\")\n",
        "\n",
        "MyClass.my_static_method(10, 20)  # Calling on the class\n",
        "instance = MyClass()\n",
        "instance.my_static_method(30, 40) # Calling on an instance (works but not recommended)"
      ],
      "metadata": {
        "id": "Br-J2bdjID7k"
      },
      "execution_count": null,
      "outputs": []
    },
    {
      "cell_type": "markdown",
      "source": [
        "Behavior: A class method is also bound to the class, but it receives the class itself (cls) as the first argument.\n",
        "Usage: Class methods are used when you need to work with class-level data or when you need to create factory methods that return instances of the class. They can modify the class state.\n",
        "Arguments: The first argument is always the class object (cls).\n",
        "Calling: You call it on the class itself or on an instance of the class."
      ],
      "metadata": {
        "id": "u8YwKeyAIHJT"
      }
    },
    {
      "cell_type": "code",
      "source": [
        "class MyClass:\n",
        "    class_variable = 0\n",
        "\n",
        "    @classmethod\n",
        "    def my_class_method(cls, arg):\n",
        "        # Uses cls to access and modify class-level data\n",
        "        cls.class_variable = arg\n",
        "        print(f\"Class method: {cls.class_variable}\")\n",
        "\n",
        "MyClass.my_class_method(50)  # Calling on the class\n",
        "instance = MyClass()\n",
        "instance.my_class_method(100) # Calling on an instance (works but not recommended)\n",
        "print(MyClass.class_variable)  # Output: 100\n",
        "\n",
        "    @classmethod\n",
        "    def from_string(cls, data):  # Factory method\n",
        "        name, value = data.split(\",\")\n",
        "        return cls(name, value)  # Returns an instance of the class\n",
        "\n",
        "class AnotherClass(MyClass): # inheriting from MyClass\n",
        "    pass\n",
        "\n",
        "instance2 = MyClass.from_string(\"test,123\")\n",
        "instance3 = AnotherClass.from_string(\"test2,456\")\n"
      ],
      "metadata": {
        "id": "6MTGkkizIJru"
      },
      "execution_count": null,
      "outputs": []
    },
    {
      "cell_type": "markdown",
      "source": [
        "# **23 How does polymorphism work in Python with inheritance?**\n",
        "Answer\n"
      ],
      "metadata": {
        "id": "5IgeWPoMIKpf"
      }
    },
    {
      "cell_type": "markdown",
      "source": [
        "Polymorphism, meaning \"many forms,\" is a fundamental concept in object-oriented programming (OOP) that allows objects of different classes to be treated as objects of a common type. In Python, polymorphism is beautifully implemented through inheritance, enabling flexibility and code reusability. Here's how it works:\n",
        "\n",
        "1. Inheritance and Method Overriding:\n",
        "\n",
        "Base Class: You have a base class (parent class) that defines common attributes and methods.\n",
        "Derived Classes: You create derived classes (child classes) that inherit from the base class. These derived classes can have their own unique attributes and methods, but they also inherit the attributes and methods of the base class.\n",
        "Method Overriding: This is where polymorphism shines. A derived class can override a method inherited from the base class, providing its own specific implementation of that method. This means that when you call the method on an object of the derived class, the derived class's version of the method is executed, not the base class's version.\n",
        "2. Polymorphic Behavior:\n",
        "\n",
        "Common Interface: Because derived classes inherit from a common base class, they share a common interface (the methods defined in the base class).\n",
        "Interchangeability: This allows you to treat objects of different derived classes as if they were objects of the base class. You can write code that works with objects of the base class, and it will also work correctly with objects of any of its derived classes.\n",
        "Dynamic Dispatch: Python's dynamic typing and runtime binding play a crucial role. When you call a method on an object, Python determines the object's actual type at runtime and calls the appropriate version of the method (either from the base class or a derived class).\n"
      ],
      "metadata": {
        "id": "nW7ENSgkIlsw"
      }
    },
    {
      "cell_type": "code",
      "source": [
        "class Animal:\n",
        "    def speak(self):\n",
        "        print(\"Generic animal sound\")\n",
        "\n",
        "class Dog(Animal):\n",
        "    def speak(self):\n",
        "        print(\"Woof!\")\n",
        "\n",
        "class Cat(Animal):\n",
        "    def speak(self):\n",
        "        print(\"Meow!\")\n",
        "\n",
        "animals = [Dog(), Cat(), Animal()]\n",
        "\n",
        "for animal in animals:\n",
        "    animal.speak()\n",
        "# Output:\n",
        "# Woof!\n",
        "# Meow!\n",
        "# Generic animal sound"
      ],
      "metadata": {
        "id": "vRnitcXMIt6C"
      },
      "execution_count": null,
      "outputs": []
    },
    {
      "cell_type": "markdown",
      "source": [
        "# **24 What is the method of changing in pythony OOPS?**\n",
        "Answer\n",
        "In Python's object-oriented programming (OOP), \"changing\" or modifying the behavior of a class or its instances can be achieved through several techniques. Here's a breakdown of the common methods:\n",
        "\n",
        "1. Method Overriding (in Inheritance):\n",
        "\n",
        "This is the most fundamental way to change behavior. When a class inherits from another (a parent or base class), it can override methods defined in the parent class. Overriding means providing a new implementation of the method in the child (derived) class.  When you call the method on an instance of the child class, the child's version of the method is executed, not the parent's.\n"
      ],
      "metadata": {
        "id": "41L7kF0lI6bb"
      }
    },
    {
      "cell_type": "code",
      "source": [
        "class Animal:\n",
        "    def make_sound(self):\n",
        "        print(\"Generic animal sound\")\n",
        "\n",
        "class Dog(Animal):\n",
        "    def make_sound(self):  # Overriding the make_sound method\n",
        "        print(\"Woof!\")\n",
        "\n",
        "my_dog = Dog()\n",
        "my_dog.make_sound()  # Output: Woof! (Dog's version)\n",
        "\n",
        "my_animal = Animal()\n",
        "my_animal.make_sound() # Output: Generic animal sound (Animal's version)"
      ],
      "metadata": {
        "id": "MaC4mTToJN-8"
      },
      "execution_count": null,
      "outputs": []
    },
    {
      "cell_type": "markdown",
      "source": [
        "2. Attribute Modification:\n",
        "\n",
        "You can change the value of an instance's attributes directly. This modifies the state of the object, which can affect its behavior."
      ],
      "metadata": {
        "id": "f9f_1hziJRB9"
      }
    },
    {
      "cell_type": "code",
      "source": [
        "class Car:\n",
        "    def __init__(self, speed):\n",
        "        self.speed = speed\n",
        "\n",
        "    def describe(self):\n",
        "        print(f\"Speed: {self.speed}\")\n",
        "\n",
        "my_car = Car(50)\n",
        "my_car.describe()  # Output: Speed: 50\n",
        "\n",
        "my_car.speed = 70  # Changing the speed attribute\n",
        "my_car.describe()  # Output: Speed: 70"
      ],
      "metadata": {
        "id": "s7BNcQFgJUH6"
      },
      "execution_count": null,
      "outputs": []
    },
    {
      "cell_type": "markdown",
      "source": [
        "3. Monkey Patching (Use with Caution):\n",
        "\n",
        "Monkey patching involves dynamically modifying existing code at runtime.  You can add, modify, or even replace methods or attributes of a class or module after it has been defined.  While powerful, monkey patching should be used with extreme caution as it can make code harder to understand and maintain, especially in larger projects. It can also lead to unexpected behavior if not done carefully.\n",
        "\n"
      ],
      "metadata": {
        "id": "8XsMWABtJWON"
      }
    },
    {
      "cell_type": "code",
      "source": [
        "class MyClass:\n",
        "    def original_method(self):\n",
        "        print(\"Original behavior\")\n",
        "\n",
        "def new_method(self):  # The replacement method\n",
        "    print(\"Modified behavior\")\n",
        "\n",
        "MyClass.original_method = new_method  # Monkey patching\n",
        "\n",
        "my_instance = MyClass()\n",
        "my_instance.original_method()  # Output: Modified behavior"
      ],
      "metadata": {
        "id": "Pzoap6sHJZHS"
      },
      "execution_count": null,
      "outputs": []
    },
    {
      "cell_type": "markdown",
      "source": [
        "4. Using Properties (for Controlled Attribute Access):\n",
        "\n",
        "Properties allow you to define getter, setter, and deleter methods for attributes. This provides a way to control how attributes are accessed and modified, allowing you to add validation or other logic.\n",
        "\n"
      ],
      "metadata": {
        "id": "9PMnZRxEJbuK"
      }
    },
    {
      "cell_type": "code",
      "source": [
        "class MyClass:\n",
        "    def __init__(self):\n",
        "        self._value = 0  # Internal attribute (convention to indicate it's intended for internal use)\n",
        "\n",
        "    @property\n",
        "    def value(self):\n",
        "        return self._value\n",
        "\n",
        "    @value.setter\n",
        "    def value(self, new_value):\n",
        "        if new_value < 0:\n",
        "            raise ValueError(\"Value must be non-negative\")\n",
        "        self._value = new_value\n",
        "\n",
        "my_instance = MyClass()\n",
        "my_instance.value = 10  # Setting the value (using the setter)\n",
        "print(my_instance.value)  # Getting the value (using the getter)\n",
        "\n",
        "# my_instance.value = -5 # This would raise a ValueError"
      ],
      "metadata": {
        "id": "jiuKK4d5Jeeh"
      },
      "execution_count": null,
      "outputs": []
    },
    {
      "cell_type": "markdown",
      "source": [
        "5. Decorators (for Wrapping or Modifying Methods):\n",
        "\n",
        "Decorators provide a way to wrap or modify the behavior of functions and methods. They can be used to add functionality before or after a method is called.\n",
        "\n"
      ],
      "metadata": {
        "id": "sNzLe8EKJhJ_"
      }
    },
    {
      "cell_type": "code",
      "source": [
        "def my_decorator(func):\n",
        "    def wrapper(*args, **kwargs):\n",
        "        print(\"Before the method\")\n",
        "        result = func(*args, **kwargs)  # Call the original method\n",
        "        print(\"After the method\")\n",
        "        return result\n",
        "    return wrapper\n",
        "\n",
        "class MyClass:\n",
        "    @my_decorator\n",
        "    def my_method(self):\n",
        "        print(\"Inside the method\")\n",
        "\n",
        "my_instance = MyClass()\n",
        "my_instance.my_method()\n",
        "# Output:\n",
        "# Before the method\n",
        "# Inside the method\n",
        "# After the method"
      ],
      "metadata": {
        "id": "YCJeUdlkJju9"
      },
      "execution_count": null,
      "outputs": []
    },
    {
      "cell_type": "markdown",
      "source": [
        "# **23 What is the purpose of the  _ _call_ _method in Python?**\n",
        "Answer\n"
      ],
      "metadata": {
        "id": "UtL9c415J1yJ"
      }
    },
    {
      "cell_type": "markdown",
      "source": [
        "The __call__ method in Python is a special method (a \"dunder\" or double-underscore method) that allows you to make an instance of a class callable, just like a regular function.  When you \"call\" an object (using parentheses like you would a function), Python automatically invokes the object's __call__ method.\n",
        "\n",
        "Purpose:\n",
        "\n",
        "The primary purpose of __call__ is to make objects behave like functions.  This can be useful in several scenarios:\n",
        "\n",
        "Creating Function-like Objects (Functors): You can create objects that encapsulate state and behavior, and then use those objects like functions. This is often referred to as a functor.\n",
        "\n",
        "Implementing Callable Objects with Internal State: You can create objects that maintain internal state that affects their behavior when called.  This is useful for things like counters, memoization, or objects that need to track some kind of internal progress.\n",
        "\n",
        "Creating Decorators (Advanced):  While not the most common use case, __call__ can be used as one of the ways to create decorators.\n",
        "\n",
        "Simplifying Complex Operations: If you have a complex operation that involves multiple steps or requires maintaining state, you can encapsulate that logic within a class and make its instances callable using __call__. This can make your code more readable and organized.\n",
        "\n",
        "How it Works:\n",
        "\n",
        "When you call an object (e.g., my_object()), Python looks for the __call__ method in the object's class. If it's defined, Python executes that method.  Any arguments you pass in the \"call\" are passed as arguments to the __call__ method (in addition to self, as usual)."
      ],
      "metadata": {
        "id": "ZXOB_bdRJ9Va"
      }
    },
    {
      "cell_type": "code",
      "source": [
        "class Adder:\n",
        "    def __init__(self, value):\n",
        "        self.value = value\n",
        "\n",
        "    def __call__(self, x):\n",
        "        return self.value + x\n",
        "\n",
        "add_5 = Adder(5)  # Create an Adder object with initial value 5\n",
        "result = add_5(10)  # Call the object like a function\n",
        "print(result)  # Output: 15\n",
        "\n",
        "add_10 = Adder(10) # Create another Adder object with initial value 10\n",
        "result2 = add_10(20) # Call this object\n",
        "print(result2) # Output: 30"
      ],
      "metadata": {
        "id": "G8w665aPKF7i"
      },
      "execution_count": null,
      "outputs": []
    },
    {
      "cell_type": "markdown",
      "source": [
        "n this example:\n",
        "\n",
        "Adder is a class that defines __call__.\n",
        "add_5 = Adder(5) creates an instance of Adder with an initial value of 5.\n",
        "add_5(10) calls the __call__ method of the add_5 object, passing 10 as an argument. The __call__ method adds the object's value (5) to 10 and returns the result."
      ],
      "metadata": {
        "id": "zpdrR9pCKOcF"
      }
    },
    {
      "cell_type": "code",
      "source": [
        "class Counter:\n",
        "    def __init__(self):\n",
        "        self.count = 0\n",
        "\n",
        "    def __call__(self):\n",
        "        self.count += 1\n",
        "        return self.count\n",
        "\n",
        "my_counter = Counter()\n",
        "print(my_counter())  # Output: 1\n",
        "print(my_counter())  # Output: 2\n",
        "print(my_counter())  # Output: 3"
      ],
      "metadata": {
        "id": "LHQvew0wKQos"
      },
      "execution_count": null,
      "outputs": []
    },
    {
      "cell_type": "markdown",
      "source": [
        "\n",
        "\n",
        "# **Practical Question**\n",
        "\n",
        "\n",
        "1 Create a parent  class animal with a method speak () that print a garnik message create a child class dog that overrides the speak () method to print \"Bark!\".\n",
        "Answer\n"
      ],
      "metadata": {
        "id": "NMQvSINKL3Ec"
      }
    },
    {
      "cell_type": "code",
      "source": [
        "class Animal:\n",
        "    def speak(self):\n",
        "        print(\"Generic animal sound\")\n",
        "\n",
        "class Dog(Animal):\n",
        "    def speak(self):  # Overriding the speak() method\n",
        "        print(\"Bark!\")\n",
        "\n",
        "# Create instances of the classes\n",
        "my_animal = Animal()\n",
        "my_dog = Dog()\n",
        "\n",
        "# Call the speak() method on each instance\n",
        "my_animal.speak()  # Output: Generic animal sound\n",
        "my_dog.speak()    # Output: Bark!"
      ],
      "metadata": {
        "id": "Mrr4sxcMM8oX"
      },
      "execution_count": null,
      "outputs": []
    },
    {
      "cell_type": "markdown",
      "source": [
        "Explanation:\n",
        "\n",
        "Animal Class:\n",
        "\n",
        "This is the parent class.\n",
        "It has a method speak() that prints \"Generic animal sound\".\n",
        "Dog Class:\n",
        "\n",
        "This is the child class, inheriting from Animal. The Dog(Animal) syntax indicates this inheritance.\n",
        "It overrides the speak() method. This means it provides its own version of the speak() method that has a different behavior. When you call speak() on a Dog object, this overridden version will be executed.\n",
        "Creating Instances:\n",
        "\n",
        "my_animal = Animal() creates an instance (an object) of the Animal class.\n",
        "my_dog = Dog() creates an instance of the Dog class.\n",
        "Calling speak():\n",
        "\n",
        "my_animal.speak() calls the speak() method on the my_animal object (which is an Animal). This executes the speak() method defined in the Animal class.\n",
        "my_dog.speak() calls the speak() method on the my_dog object (which is a Dog). Because Dog overrides the speak() method, the speak() method defined in the Dog class is executed, not the one in the Animal class. This is a key demonstration of polymorphism.\n",
        "\n",
        "\n",
        "\n",
        "\n",
        "\n"
      ],
      "metadata": {
        "id": "ZYN1ADdtM_Ov"
      }
    },
    {
      "cell_type": "markdown",
      "source": [
        "# **2  Write a program to create an absent class sharp with a method area (). Driven class circle and rectangular from it and implement the area () method in both.**\n",
        "Answer\n"
      ],
      "metadata": {
        "id": "XJJyXdryNb7n"
      }
    },
    {
      "cell_type": "code",
      "source": [
        "import math\n",
        "\n",
        "class Shape:  # Abstract base class (can't create instances directly)\n",
        "    def area(self):\n",
        "        raise NotImplementedError(\"Area method must be implemented in subclasses\")  # Force implementation\n",
        "\n",
        "class Circle(Shape):\n",
        "    def __init__(self, radius):\n",
        "        self.radius = radius\n",
        "\n",
        "    def area(self):  # Implementing the area() method for Circle\n",
        "        return math.pi * self.radius**2\n",
        "\n",
        "class Rectangle(Shape):\n",
        "    def __init__(self, length, width):\n",
        "        self.length = length\n",
        "        self.width = width\n",
        "\n",
        "    def area(self):  # Implementing the area() method for Rectangle\n",
        "        return self.length * self.width\n",
        "\n",
        "\n",
        "# Example usage:\n",
        "try:\n",
        "    generic_shape = Shape() # This will raise the exception\n",
        "    generic_shape.area()\n",
        "except NotImplementedError as e:\n",
        "    print(f\"Error: {e}\")\n",
        "\n",
        "my_circle = Circle(5)\n",
        "print(f\"Area of circle: {my_circle.area()}\")\n",
        "\n",
        "my_rectangle = Rectangle(4, 6)\n",
        "print(f\"Area of rectangle: {my_rectangle.area()}\")\n",
        "\n",
        "\n",
        "# Demonstrating polymorphism\n",
        "shapes = [Circle(3), Rectangle(2, 8), Circle(7)]\n",
        "\n",
        "for shape in shapes:\n",
        "    print(f\"Area of shape: {shape.area()}\") # Polymorphic call - correct area method is called based on the object's type"
      ],
      "metadata": {
        "id": "rcyPrN13Nl59"
      },
      "execution_count": null,
      "outputs": []
    },
    {
      "cell_type": "markdown",
      "source": [
        "Explanation and Key Improvements:\n",
        "\n",
        "Abstract Base Class Shape:\n",
        "\n",
        "The Shape class now includes raise NotImplementedError(\"Area method must be implemented in subclasses\"). This makes Shape an abstract base class. You cannot create instances of Shape directly. If you try, it will raise the NotImplementedError. This enforces that any class inheriting from shape must implement the area() method. This is a very good practice in OOP when you want to ensure a certain method is implemented by all child classes.\n",
        "NotImplementedError:\n",
        "\n",
        "The NotImplementedError is raised in the Shape class's area() method. This makes it explicit that the base class Shape is abstract and its area function is meant to be overridden.\n",
        "Circle and Rectangle Classes:\n",
        "\n",
        "Both Circle and Rectangle inherit from Shape.\n",
        "They must implement the area() method. If they don't, they will inherit the area() method from the Shape class, which will raise an error.\n",
        "The area() methods in Circle and Rectangle provide the correct calculations for their respective shapes.\n",
        "Example Usage:\n",
        "\n",
        "The code demonstrates how to create instances of Circle and Rectangle and call their area() methods.\n",
        "It also shows how to use polymorphism: The shapes list holds objects of different types (Circle and Rectangle). The loop iterates through the list, and the correct area() method is called for each object, even though they are all treated as Shape objects.\n",
        "Error Handling: Added a try-except block to catch the NotImplementedError in case someone attempts to create a Shape object directly. This is good practice for handling potential issues in your code.\n",
        "\n",
        "This improved version demonstrates abstract base classes, method overriding, polymorphism, and good error-handling practices. It's a much more robust and object-oriented way to structure your code."
      ],
      "metadata": {
        "id": "811ISGyjNrMd"
      }
    },
    {
      "cell_type": "markdown",
      "source": [
        "# **3 Implement a multi-level inheritance scenario wear a class vehicle has an attribute type.  Derive a class car and further derive a class electric car that add a battery attributes\n",
        "Answer\n"
      ],
      "metadata": {
        "id": "D2WTzkDNOteX"
      }
    },
    {
      "cell_type": "code",
      "source": [
        "class Vehicle:\n",
        "    def __init__(self, vehicle_type):\n",
        "        self.type = vehicle_type\n",
        "\n",
        "    def display_info(self):\n",
        "        print(f\"Vehicle Type: {self.type}\")\n",
        "\n",
        "class Car(Vehicle):\n",
        "    def __init__(self, vehicle_type, color):\n",
        "        super().__init__(vehicle_type)\n",
        "        self.color = color\n",
        "\n",
        "    def display_info(self):\n",
        "        super().display_info()\n",
        "        print(f\"Color: {self.color}\")\n",
        "\n",
        "class ElectricCar(Car):\n",
        "    def __init__(self, vehicle_type, color, battery_capacity):\n",
        "        super().__init__(vehicle_type, color)\n",
        "        self.battery_capacity = battery_capacity\n",
        "\n",
        "    def display_info(self):\n",
        "        super().display_info()\n",
        "        print(f\"Battery Capacity: {self.battery_capacity} kWh\")\n",
        "\n",
        "# Create an instance of ElectricCar\n",
        "my_electric_car = ElectricCar(\"Electric\", \"Red\", 75)\n",
        "\n",
        "# Display information about the electric car\n",
        "my_electric_car.display_info()"
      ],
      "metadata": {
        "id": "LEcD77JlPAf_"
      },
      "execution_count": null,
      "outputs": []
    },
    {
      "cell_type": "markdown",
      "source": [
        "Explanation:\n",
        "\n",
        "Vehicle Class:\n",
        "\n",
        "This is the base class.\n",
        "It has an attribute type (e.g., \"Car\", \"Truck\", \"Motorcycle\").\n",
        "The display_info() method prints the vehicle type.\n",
        "Car Class:\n",
        "\n",
        "This class inherits from Vehicle (class Car(Vehicle)).\n",
        "It adds an attribute color.\n",
        "The display_info() method overrides the method from the Vehicle class. It first calls the parent class's display_info() using super().display_info() to print the vehicle type. Then, it prints the car's color.\n",
        "ElectricCar Class:\n",
        "\n",
        "This class inherits from Car (class ElectricCar(Car)), demonstrating multi-level inheritance.\n",
        "It adds an attribute battery_capacity.\n",
        "The display_info() method again overrides the method. It calls the parent's display_info() (which in turn calls the Vehicle class's method) and then prints the battery capacity.\n",
        "Example Usage:\n",
        "\n",
        "my_electric_car = ElectricCar(\"Electric\", \"Red\", 75) creates an instance of ElectricCar.\n",
        "my_electric_car.display_info() calls the display_info() method on the ElectricCar instance. Because of method overriding, the correct version of the method is called at each level of the inheritance hierarchy, resulting in all the information being printed.\n",
        "Output:"
      ],
      "metadata": {
        "id": "2SVHtEkPPEMb"
      }
    },
    {
      "cell_type": "code",
      "source": [
        "Vehicle Type: Electric\n",
        "Color: Red\n",
        "Battery Capacity: 75 kWh"
      ],
      "metadata": {
        "id": "r_F8FH1aPTyM"
      },
      "execution_count": null,
      "outputs": []
    },
    {
      "cell_type": "markdown",
      "source": [
        "# 5 Write a Program to demonstrate encapsulation by creating a class bank bank account with private and tribute balance and method to deposit withdrawal and check balance.\n",
        "Answer\n"
      ],
      "metadata": {
        "id": "nCs5snwjPYXQ"
      }
    },
    {
      "cell_type": "code",
      "source": [
        "class BankAccount:\n",
        "    def __init__(self, account_number, initial_balance=0):\n",
        "        self._account_number = account_number  # Private attribute (by convention)\n",
        "        self._balance = initial_balance  # Private attribute (by convention)\n",
        "\n",
        "    def deposit(self, amount):\n",
        "        if amount > 0:\n",
        "            self._balance += amount\n",
        "            print(f\"Deposited ${amount}. New balance: ${self._balance}\")\n",
        "        else:\n",
        "            print(\"Deposit amount must be positive.\")\n",
        "\n",
        "    def withdraw(self, amount):\n",
        "        if amount > 0:\n",
        "            if amount <= self._balance:\n",
        "                self._balance -= amount\n",
        "                print(f\"Withdrew ${amount}. New balance: ${self._balance}\")\n",
        "            else:\n",
        "                print(\"Insufficient funds.\")\n",
        "        else:\n",
        "            print(\"Withdrawal amount must be positive.\")\n",
        "\n",
        "    def check_balance(self):\n",
        "        print(f\"Current balance: ${self._balance}\")\n",
        "\n",
        "    # Example of a getter method (for controlled access to account number)\n",
        "    def get_account_number(self):\n",
        "        return self._account_number\n",
        "\n",
        "\n",
        "# Example Usage:\n",
        "my_account = BankAccount(\"1234567890\", 1000)  # Create an account with initial balance\n",
        "\n",
        "my_account.check_balance()  # Check initial balance\n",
        "\n",
        "my_account.deposit(500)  # Deposit some money\n",
        "\n",
        "my_account.withdraw(200)  # Withdraw some money\n",
        "\n",
        "my_account.withdraw(1500) # Trying to withdraw more than the balance\n",
        "\n",
        "my_account.check_balance()  # Check updated balance\n",
        "\n",
        "# Accessing the account number (using the getter method)\n",
        "print(f\"Account Number: {my_account.get_account_number()}\")\n",
        "\n",
        "# Trying to access the balance directly (discouraged but possible):\n",
        "# print(my_account._balance) # This is discouraged; use methods instead.\n",
        "# my_account._balance = -1000 # This is also discouraged; use methods for controlled updates."
      ],
      "metadata": {
        "id": "K2TSCdDyQDDq"
      },
      "execution_count": null,
      "outputs": []
    },
    {
      "cell_type": "markdown",
      "source": [
        "Explanation and Encapsulation:\n",
        "\n",
        "Private Attributes (by convention):\n",
        "\n",
        "_account_number and _balance are prefixed with a single underscore (_). This is a convention in Python to indicate that these attributes are intended for internal use within the class. It signals to other developers that they should not directly access or modify these attributes from outside the class. However, it's important to understand that this is just a convention; Python doesn't enforce true privacy like some other languages. You can still access and modify these attributes from outside the class if you really want to (e.g., my_account._balance = -1000), but it's strongly discouraged.\n",
        "Methods for Access and Modification:\n",
        "\n",
        "The deposit(), withdraw(), and check_balance() methods provide the proper way to interact with the account's balance. These methods control how the balance is accessed and modified. For example, the withdraw() method checks for sufficient funds before allowing a withdrawal.\n",
        "Getter Method (Example):\n",
        "\n",
        "The get_account_number() method is an example of a getter method. It provides a controlled way to access the (conventionally) private _account_number attribute. This is better than directly accessing my_account._account_number from outside the class.\n",
        "Encapsulation:\n",
        "\n",
        "Encapsulation is achieved by bundling the data (attributes) and the methods that operate on that data within the class. The internal representation of the data (the _balance) is hidden from the outside world, and access to it is controlled through the class's methods. This helps to protect the data's integrity and prevents accidental or inappropriate modifications.\n",
        "Key Points about Encapsulation in Python:\n",
        "\n",
        "Python uses naming conventions (single underscore) to suggest privacy, but it's not enforced.\n",
        "Encapsulation is primarily achieved through well-designed classes and methods that control data access.\n",
        "Using properties (as shown in a previous example) is a more robust way to control attribute access and modification if you need stricter control than the single underscore convention provides. Properties provide methods that are accessed as if they were direct attribute access.\n",
        "Encapsulation is a key principle of OOP, promoting data integrity, code organization, and maintainability."
      ],
      "metadata": {
        "id": "c--8cyttQFyx"
      }
    },
    {
      "cell_type": "markdown",
      "source": [
        "# 6 Demonstrate runtime polymorphism using a method play in a base plus instrument derive classes guitar and piano that implement their own version of play().\n",
        "Answer\n"
      ],
      "metadata": {
        "id": "0EV-I77QQH8B"
      }
    },
    {
      "cell_type": "code",
      "source": [
        "class Instrument:\n",
        "    def play(self):\n",
        "        print(\"Playing a generic instrument sound\")\n",
        "\n",
        "class Guitar(Instrument):\n",
        "    def play(self):\n",
        "        print(\"Strumming the guitar strings\")\n",
        "\n",
        "class Piano(Instrument):\n",
        "    def play(self):\n",
        "        print(\"Playing the piano keys\")\n",
        "\n",
        "# Runtime Polymorphism Demonstration\n",
        "\n",
        "instruments = [Guitar(), Piano(), Guitar(), Instrument(), Piano()]\n",
        "\n",
        "for instrument in instruments:\n",
        "    instrument.play()  # Polymorphic call - the correct play() method is called at runtime\n",
        "\n",
        "# Another demonstration (showing flexibility):\n",
        "\n",
        "def perform(instrument): # Function that takes Instrument type and calls play\n",
        "    instrument.play()\n",
        "\n",
        "my_guitar = Guitar()\n",
        "my_piano = Piano()\n",
        "\n",
        "perform(my_guitar) # Guitar play method called\n",
        "perform(my_piano)  # Piano play method called"
      ],
      "metadata": {
        "id": "oEs0P-J2Q4H3"
      },
      "execution_count": null,
      "outputs": []
    },
    {
      "cell_type": "markdown",
      "source": [
        "Explanation of Runtime Polymorphism:\n",
        "\n",
        "Base Class Instrument:\n",
        "\n",
        "Defines a play() method that provides a generic message.\n",
        "Derived Classes Guitar and Piano:\n",
        "\n",
        "Both inherit from Instrument.\n",
        "Each overrides the play() method, providing their own specific implementations (strumming for guitar, playing keys for piano).\n",
        "Runtime Polymorphism in Action:\n",
        "\n",
        "The instruments list holds objects of different types: Guitar, Piano, and even Instrument.\n",
        "The for loop iterates through this list.\n",
        "The crucial part is instrument.play(). Because of runtime polymorphism (also known as dynamic dispatch or late binding), Python determines the actual type of the object at the time the play() method is called. If the object is a Guitar, the Guitar class's play() method is executed. If it's a Piano, the Piano class's play() method is executed. If it's just an Instrument, the Instrument class's play() method is executed.\n",
        "Flexibility and Extensibility:\n",
        "\n",
        "The code is flexible. You can easily add more instrument types (e.g., Violin, Flute) by creating new classes that inherit from Instrument and override the play() method. The existing loop will work correctly with these new types without any modifications. This is a major benefit of polymorphism.\n",
        "perform() function example:\n",
        "\n",
        "The perform() function demonstrates how you can write code that works with any Instrument type. You don't need to know the specific type (Guitar or Piano) when you call perform(). The correct play() method will be called at runtime, thanks to polymorphism.\n",
        "Key Concepts:\n",
        "\n",
        "Inheritance: Guitar and Piano inherit from Instrument.\n",
        "Method Overriding: Guitar and Piano provide their own versions of the play() method.\n",
        "Runtime Polymorphism (Dynamic Dispatch): The correct play() method is chosen at runtime based on the object's actual type. This is what makes the code flexible and extensible."
      ],
      "metadata": {
        "id": "2jbMq7D_Q65o"
      }
    },
    {
      "cell_type": "markdown",
      "source": [
        "# 7 Create a class mathsOperation with a class method  add _number () to add two number and a static method subtract_number () to subtract two number?\n",
        "Answer\n",
        "\n"
      ],
      "metadata": {
        "id": "WBwRhqtPQ-nr"
      }
    },
    {
      "cell_type": "code",
      "source": [
        "class MathsOperation:\n",
        "    @classmethod\n",
        "    def add_numbers(cls, num1, num2):\n",
        "        \"\"\"Adds two numbers.\"\"\"\n",
        "        return num1 + num2\n",
        "\n",
        "    @staticmethod\n",
        "    def subtract_numbers(num1, num2):\n",
        "        \"\"\"Subtracts two numbers.\"\"\"\n",
        "        return num1 - num2\n",
        "\n",
        "# Example Usage:\n",
        "\n",
        "# Calling the class method (add_numbers)\n",
        "sum_result = MathsOperation.add_numbers(10, 5)\n",
        "print(f\"Sum: {sum_result}\")  # Output: Sum: 15\n",
        "\n",
        "# Calling the static method (subtract_numbers)\n",
        "difference_result = MathsOperation.subtract_numbers(20, 7)\n",
        "print(f\"Difference: {difference_result}\")  # Output: Difference: 13\n",
        "\n",
        "# You can also call them on an instance, but it's not the recommended way\n",
        "# for static and class methods:\n",
        "math_op = MathsOperation()\n",
        "sum_result2 = math_op.add_numbers(8,3) # This works, but not recommended\n",
        "difference_result2 = math_op.subtract_numbers(15,2) # This works, but not recommended\n",
        "print(f\"Sum: {sum_result2}\")  # Output: Sum: 11\n",
        "print(f\"Difference: {difference_result2}\")  # Output: Difference: 13"
      ],
      "metadata": {
        "id": "TJIJBXouSChw"
      },
      "execution_count": null,
      "outputs": []
    },
    {
      "cell_type": "markdown",
      "source": [
        "# 8 Implement a class person with a class method to count the total number of the person created\n",
        "Answer\n"
      ],
      "metadata": {
        "id": "Z0_xbGWfSHKc"
      }
    },
    {
      "cell_type": "code",
      "source": [
        "class Person:\n",
        "    \"\"\"\n",
        "    A class to represent a person.\n",
        "    \"\"\"\n",
        "    _total_persons = 0  # Class variable to track total persons\n",
        "\n",
        "    def __init__(self, name):\n",
        "        \"\"\"\n",
        "        Initializes a Person object.\n",
        "\n",
        "        Args:\n",
        "            name (str): The name of the person.\n",
        "        \"\"\"\n",
        "        self.name = name\n",
        "        Person._total_persons += 1\n",
        "\n",
        "    @classmethod\n",
        "    def get_total_persons(cls):\n",
        "        \"\"\"\n",
        "        Returns the total number of Person objects created.\n",
        "\n",
        "        Returns:\n",
        "            int: The total number of Person objects.\n",
        "        \"\"\"\n",
        "        return cls._total_persons\n",
        "\n",
        "# Create some Person objects\n",
        "person1 = Person(\"Alice\")\n",
        "person2 = Person(\"Bob\")\n",
        "person3 = Person(\"Charlie\")\n",
        "\n",
        "# Get the total number of persons\n",
        "total_persons = Person.get_total_persons()\n",
        "print(f\"Total number of persons: {total_persons}\")"
      ],
      "metadata": {
        "id": "RVlQCRVmSVkd"
      },
      "execution_count": null,
      "outputs": []
    },
    {
      "cell_type": "markdown",
      "source": [
        "# 9 \"Write a class friction with attribute numerator and denominator. Overwrite the str method to display the fraction as \"numerical /denominator\".\n",
        "Answer"
      ],
      "metadata": {
        "id": "_79HZ-FpSg0y"
      }
    },
    {
      "cell_type": "code",
      "source": [
        "class Fraction:\n",
        "    def __init__(self, numerator, denominator):\n",
        "        if denominator == 0:\n",
        "            raise ZeroDivisionError(\"Denominator cannot be zero.\")\n",
        "        self.numerator = numerator\n",
        "        self.denominator = denominator\n",
        "\n",
        "    def __str__(self):\n",
        "        return f\"{self.numerator}/{self.denominator}\"\n",
        "\n",
        "    # Optional: Add other methods for fraction operations (add, subtract, etc.)\n",
        "    def __add__(self, other):\n",
        "        if isinstance(other, Fraction):\n",
        "            new_numerator = self.numerator * other.denominator + other.numerator * self.denominator\n",
        "            new_denominator = self.denominator * other.denominator\n",
        "            return Fraction(new_numerator, new_denominator)\n",
        "        elif isinstance(other, int):\n",
        "            new_numerator = self.numerator + other * self.denominator\n",
        "            return Fraction(new_numerator, self.denominator)\n",
        "        else:\n",
        "            raise TypeError(\"Can only add Fraction or int to Fraction\")\n",
        "\n",
        "\n",
        "    def __sub__(self, other):\n",
        "        if isinstance(other, Fraction):\n",
        "            new_numerator = self.numerator * other.denominator - other.numerator * self.denominator\n",
        "            new_denominator = self.denominator * other.denominator\n",
        "            return Fraction(new_numerator, new_denominator)\n",
        "        elif isinstance(other, int):\n",
        "            new_numerator = self.numerator - other * self.denominator\n",
        "            return Fraction(new_numerator, self.denominator)\n",
        "        else:\n",
        "            raise TypeError(\"Can only subtract Fraction or int from Fraction\")\n",
        "\n",
        "    def __mul__(self, other):\n",
        "      if isinstance(other, Fraction):\n",
        "        new_numerator = self.numerator * other.numerator\n",
        "        new_denominator = self.denominator * other.denominator\n",
        "        return Fraction(new_numerator, new_denominator)\n",
        "      elif isinstance(other, int):\n",
        "        new_numerator = self.numerator * other\n",
        "        return Fraction(new_numerator, self.denominator)\n",
        "      else:\n",
        "        raise TypeError(\"Can only multiply Fraction or int with Fraction\")\n",
        "\n",
        "    def __truediv__(self, other):\n",
        "      if isinstance(other, Fraction):\n",
        "        new_numerator = self.numerator * other.denominator\n",
        "        new_denominator = self.denominator * other.numerator\n",
        "        return Fraction(new_numerator, new_denominator)\n",
        "      elif isinstance(other, int):\n",
        "        return Fraction(self.numerator, self.denominator * other)\n",
        "      else:\n",
        "        raise TypeError(\"Can only divide Fraction by Fraction or int\")\n",
        "\n",
        "# Example Usage:\n",
        "frac1 = Fraction(3, 4)\n",
        "frac2 = Fraction(1, 2)\n",
        "\n",
        "print(frac1)        # Output: 3/4 (using the overridden __str__ method)\n",
        "print(frac2)        # Output: 1/2\n",
        "\n",
        "print(frac1 + frac2) # Output: 10/8 (using the overloaded __add__ method)\n",
        "print(frac1 - frac2) # Output: 2/8 (using the overloaded __sub__ method)\n",
        "print(frac1 * frac2) # Output: 3/8 (using the overloaded __mul__ method)\n",
        "print(frac1 / frac2) # Output: 6/4 (using the overloaded __truediv__ method)\n",
        "\n",
        "print(frac1 + 1) # Output: 7/4\n",
        "print(frac1 - 1) # Output: -1/4\n",
        "print(frac1 * 2) # Output: 6/4\n",
        "print(frac1 / 2) # Output: 3/8\n",
        "\n",
        "\n",
        "try:\n",
        "    frac3 = Fraction(2, 0)  # This will raise a ZeroDivisionError\n",
        "except ZeroDivisionError as e:\n",
        "    print(e)"
      ],
      "metadata": {
        "id": "jp585AxMTOQk"
      },
      "execution_count": null,
      "outputs": []
    },
    {
      "cell_type": "markdown",
      "source": [
        "Explanation and Improvements:\n",
        "\n",
        "__init__ Method:\n",
        "\n",
        "The constructor now raises a ZeroDivisionError if the denominator is 0. This is crucial for preventing invalid fractions and making the class more robust.\n",
        "__str__ Method Overriding:\n",
        "\n",
        "The __str__ method is overridden to return the fraction in the desired \"numerator/denominator\" format using an f-string. This is what makes print(frac1) produce the nice output.\n",
        "Added Arithmetic Operations:\n",
        "\n",
        "I've added __add__, __sub__, __mul__, and __truediv__ methods to overload the +, -, *, and / operators, respectively. This allows you to perform arithmetic operations directly on Fraction objects. The methods also handle cases where you're adding/subtracting/multiplying/dividing a Fraction with an int. They raise a TypeError if you try to perform an operation with an unsupported type.\n",
        "Error Handling:\n",
        "\n",
        "The example usage now includes a try...except block to catch the ZeroDivisionError that might occur if you try to create a fraction with a zero denominator. This is important for preventing your program from crashing.\n",
        "Clarity and Comments:\n",
        "\n",
        "I've added comments to explain the purpose of the code more clearly.\n",
        "This improved version is more robust, handles errors, and provides a more complete implementation of a Fraction class with arithmetic operations. It also demonstrates how to use the __str__ method for custom string representation."
      ],
      "metadata": {
        "id": "rFCyO2B2TRVn"
      }
    },
    {
      "cell_type": "markdown",
      "source": [
        "# 10 Demonstrate operator overloading by creating a class vector and overriding the ad method to add to vectors.\n",
        "Answer\n"
      ],
      "metadata": {
        "id": "Z8DVT45MTUhp"
      }
    },
    {
      "cell_type": "code",
      "source": [
        "class Vector:\n",
        "    def __init__(self, x, y):\n",
        "        self.x = x\n",
        "        self.y = y\n",
        "\n",
        "    def __add__(self, other):\n",
        "        \"\"\"\n",
        "        Overloads the + operator for vector addition.\n",
        "\n",
        "        Args:\n",
        "            other: Another Vector object.\n",
        "\n",
        "        Returns:\n",
        "            A new Vector object representing the sum of the two vectors.\n",
        "        \"\"\"\n",
        "        if not isinstance(other, Vector):\n",
        "            raise TypeError(\"Can only add two Vector objects\")\n",
        "        return Vector(self.x + other.x, self.y + other.y)\n",
        "\n",
        "    def __str__(self):\n",
        "        \"\"\"\n",
        "        Returns a string representation of the vector.\n",
        "        \"\"\"\n",
        "        return f\"({self.x}, {self.y})\"\n",
        "\n",
        "# Create two Vector objects\n",
        "v1 = Vector(2, 3)\n",
        "v2 = Vector(1, -1)\n",
        "\n",
        "# Add the vectors using the overloaded + operator\n",
        "v3 = v1 + v2\n",
        "\n",
        "# Print the resulting vector\n",
        "print(\"v1:\", v1)\n",
        "print(\"v2:\", v2)\n",
        "print(\"v1 + v2:\", v3)"
      ],
      "metadata": {
        "id": "15a_s3cqTzbN"
      },
      "execution_count": null,
      "outputs": []
    },
    {
      "cell_type": "markdown",
      "source": [
        "Explanation:\n",
        "\n",
        "Vector Class:\n",
        "\n",
        "Represents a 2D vector with components x and y.\n",
        "The constructor (__init__) initializes the vector's components.\n",
        "__add__ Method Overloading:\n",
        "\n",
        "The __add__ method is a special method used for operator overloading. It's called when you use the + operator with instances of the Vector class.\n",
        "It takes two arguments: self (the current vector) and other (the vector to be added).\n",
        "It first checks if other is also a Vector object. If not, it raises a TypeError.\n",
        "It creates a new Vector object whose x component is the sum of the x components of self and other, and similarly for the y component.\n",
        "It returns the new Vector object representing the sum.\n",
        "__str__ Method:\n",
        "\n",
        "The __str__ method is another special method that's called when you try to convert the object to a string (e.g., when you use print()).\n",
        "It returns a string representation of the vector in the format (x, y).\n",
        "Example Usage:\n",
        "\n",
        "Two Vector objects, v1 and v2, are created.\n",
        "The line v3 = v1 + v2 uses the overloaded + operator. Python automatically calls the __add__ method of v1, passing v2 as the other argument.\n",
        "The result (the sum vector) is stored in v3.\n",
        "The print() statements demonstrate the use of the overloaded + operator and the __str__ method.\n",
        "Output:"
      ],
      "metadata": {
        "id": "sq60b9LLT2Pk"
      }
    },
    {
      "cell_type": "code",
      "source": [
        "v1: (2, 3)\n",
        "v2: (1, -1)\n",
        "v1 + v2: (3, 2)"
      ],
      "metadata": {
        "id": "jbJE3UdzT4J-"
      },
      "execution_count": null,
      "outputs": []
    },
    {
      "cell_type": "markdown",
      "source": [
        "# 11 Create a class person with attribute name and age. Add  a method a greet ()that print \"Hello,my name is {name} and I am {age}your old.\n",
        "Answer\n"
      ],
      "metadata": {
        "id": "BijYcuW1T6Oc"
      }
    },
    {
      "cell_type": "code",
      "source": [
        "class Person:\n",
        "    def __init__(self, name, age):\n",
        "        self.name = name\n",
        "        self.age = age\n",
        "\n",
        "    def greet(self):\n",
        "        print(f\"Hello, my name is {self.name} and I am {self.age} years old.\")\n",
        "\n",
        "# Example usage:\n",
        "person1 = Person(\"Alice\", 30)\n",
        "person1.greet()  # Output: Hello, my name is Alice and I am 30 years old.\n",
        "\n",
        "person2 = Person(\"Bob\", 25)\n",
        "person2.greet()  # Output: Hello, my name is Bob and I am 25 years old."
      ],
      "metadata": {
        "id": "dGthAno5Urrq"
      },
      "execution_count": null,
      "outputs": []
    },
    {
      "cell_type": "markdown",
      "source": [
        "## 12 Implement a class student with attribute name and grades. Create a method average_grade() to compute the average of the Grades ?\n",
        "Answer"
      ],
      "metadata": {
        "id": "ujs5GL_3Utpf"
      }
    },
    {
      "cell_type": "code",
      "source": [
        "Python\n",
        "\n",
        "class Student:\n",
        "    def __init__(self, name):\n",
        "        self.name = name\n",
        "        self.grades = []  # Initialize an empty list for grades\n",
        "\n",
        "    def add_grade(self, grade):\n",
        "        \"\"\"Adds a grade to the student's list of grades.\"\"\"\n",
        "        if isinstance(grade, (int, float)): #check if grade is a number\n",
        "            self.grades.append(grade)\n",
        "        else:\n",
        "            raise TypeError(\"Grade must be a number (int or float).\")\n",
        "\n",
        "    def average_grade(self):\n",
        "        \"\"\"Computes and returns the average of the student's grades.\"\"\"\n",
        "        if not self.grades:  # Check if the list of grades is empty\n",
        "            return 0  # Return 0 if no grades have been added yet\n",
        "        return sum(self.grades) / len(self.grades)\n",
        "\n",
        "# Example Usage:\n",
        "student1 = Student(\"Alice\")\n",
        "\n",
        "student1.add_grade(85)\n",
        "student1.add_grade(92)\n",
        "student1.add_grade(78)\n",
        "#student1.add_grade(\"A\") # This will raise TypeError\n",
        "\n",
        "average = student1.average_grade()\n",
        "print(f\"{student1.name}'s average grade: {average}\")  # Output: Alice's average grade: 85.0\n",
        "\n",
        "student2 = Student(\"Bob\")\n",
        "print(f\"{student2.name}'s average grade: {student2.average_grade()}\") # Output: Bob's average grade: 0\n",
        "\n",
        "student2.add_grade(90)\n",
        "student2.add_grade(80)\n",
        "student2.add_grade(70)\n",
        "\n",
        "print(f\"{student2.name}'s average grade: {student2.average_grade()}\") # Output: Bob's a"
      ],
      "metadata": {
        "id": "OinyRJs8ceMc"
      },
      "execution_count": null,
      "outputs": []
    },
    {
      "cell_type": "markdown",
      "source": [
        "13 Create a class rectangle with method set_dimension() to set the dimensions and area() to calculate the area.\n",
        "Answer"
      ],
      "metadata": {
        "id": "4fzxfYHLcf8y"
      }
    },
    {
      "cell_type": "code",
      "source": [
        "class Rectangle:\n",
        "    def __init__(self):\n",
        "        self.length = 0  # Initialize length and width to 0\n",
        "        self.width = 0\n",
        "\n",
        "    def set_dimensions(self, length, width):\n",
        "        \"\"\"Sets the length and width of the rectangle.\"\"\"\n",
        "        if not isinstance(length, (int, float)) or not isinstance(width, (int, float)):\n",
        "            raise TypeError(\"Length and width must be numbers (int or float).\")\n",
        "\n",
        "        if length <= 0 or width <= 0:\n",
        "            raise ValueError(\"Length and width must be positive.\")\n",
        "\n",
        "        self.length = length\n",
        "        self.width = width\n",
        "\n",
        "    def area(self):\n",
        "        \"\"\"Calculates and returns the area of the rectangle.\"\"\"\n",
        "        return self.length * self.width\n",
        "\n",
        "# Example Usage:\n",
        "rectangle1 = Rectangle()\n",
        "\n",
        "# Setting Dimensions\n",
        "rectangle1.set_dimensions(5, 10)\n",
        "\n",
        "# Calculating area\n",
        "area1 = rectangle1.area()\n",
        "print(f\"Area of rectangle 1: {area1}\")  # Output: Area of rectangle 1: 50\n",
        "\n",
        "rectangle2 = Rectangle()\n",
        "\n",
        "try:\n",
        "    rectangle2.set_dimensions(-5, 10) # will raise ValueError\n",
        "except ValueError as e:\n",
        "    print(f\"Error: {e}\")\n",
        "\n",
        "try:\n",
        "    rectangle2.set_dimensions(5, \"abc\") # will raise TypeError\n",
        "except TypeError as e:\n",
        "    print(f\"Error: {e}\")\n",
        "\n",
        "\n",
        "rectangle2.set_dimensions(7, 3)\n",
        "area2 = rectangle2.area()\n",
        "print(f\"Area of rectangle 2: {area2}\")  # Output: Area of rectangle 2: 21"
      ],
      "metadata": {
        "id": "ugavqf45dAq-"
      },
      "execution_count": null,
      "outputs": []
    },
    {
      "cell_type": "markdown",
      "source": [
        "# 14 Create a class employee with a method calculate_salary() that computes The salary based on hours worked and hourly rate. Create a derivative class manager that are bonus to the salary.\n",
        "Answer"
      ],
      "metadata": {
        "id": "Ot3Sc73ndBoc"
      }
    },
    {
      "cell_type": "code",
      "source": [
        "class Employee:\n",
        "    def __init__(self, name, hourly_rate):\n",
        "        self.name = name\n",
        "        self.hourly_rate = hourly_rate\n",
        "\n",
        "    def calculate_salary(self, hours_worked):\n",
        "        \"\"\"Calculates salary based on hours worked and hourly rate.\"\"\"\n",
        "        if not isinstance(hours_worked, (int, float)) or hours_worked < 0:\n",
        "            raise ValueError(\"Hours worked must be a non-negative number.\")\n",
        "        return self.hourly_rate * hours_worked\n",
        "\n",
        "class Manager(Employee):\n",
        "    def __init__(self, name, hourly_rate, bonus_percentage):\n",
        "        super().__init__(name, hourly_rate)  # Call parent class's __init__\n",
        "        self.bonus_percentage = bonus_percentage\n",
        "\n",
        "    def calculate_salary(self, hours_worked):\n",
        "        \"\"\"Calculates salary with bonus.\"\"\"\n",
        "        base_salary = super().calculate_salary(hours_worked)  # Get base salary\n",
        "        bonus = base_salary * (self.bonus_percentage / 100)\n",
        "        return base_salary + bonus\n",
        "\n",
        "\n",
        "\n",
        "# Example Usage:\n",
        "employee1 = Employee(\"Alice\", 20)\n",
        "salary1 = employee1.calculate_salary(40)\n",
        "print(f\"{employee1.name}'s salary: ${salary1}\")  # Output: Alice's salary: $800\n",
        "\n",
        "manager1 = Manager(\"Bob\", 30, 10)  # Manager with 10% bonus\n",
        "salary2 = manager1.calculate_salary(40)\n",
        "print(f\"{manager1.name}'s salary: ${salary2}\")  # Output: Bob's salary: $1320 (1200 + 120)\n",
        "\n",
        "try:\n",
        "    employee2 = Employee(\"Charlie\", 25)\n",
        "    salary3 = employee2.calculate_salary(-10) # will raise ValueError\n",
        "except ValueError as e:\n",
        "    print(f\"Error: {e}\")\n",
        "\n",
        "try:\n",
        "    manager2 = Manager(\"David\", 40, 5)\n",
        "    salary4 = manager2.calculate_salary(\"abc\") # will raise ValueError\n",
        "except ValueError as e:\n",
        "    print(f\"Error: {e}\")\n"
      ],
      "metadata": {
        "id": "yeKjbRp9drpD"
      },
      "execution_count": null,
      "outputs": []
    },
    {
      "cell_type": "markdown",
      "source": [
        "# 15 Create a class product with attributes name,price and quality. Implement a method total_price() that calculate the total price of the product.\n",
        "Answer\n",
        "class Product:\n",
        "    def __init__(self, name, price, quantity):\n",
        "        \"\"\"Initializes a Product object.\"\"\"\n",
        "\n",
        "        if not isinstance(name, str):\n",
        "            raise TypeError(\"Product name must be a a string\")\n",
        "\n",
        "        if not isinstance(price, (int, float)):\n",
        "            raise TypeError(\"Price must be a number (int or float).\")\n",
        "\n",
        "        if not isinstance(quantity, int) or quantity < 0:\n",
        "            raise ValueError(\"Quantity must be a non-negative integer.\")\n",
        "\n",
        "\n",
        "        self.name = name\n",
        "        self.price = price\n",
        "        self.quantity = quantity\n",
        "\n",
        "    def total_price(self):\n",
        "        \"\"\"Calculates and returns the total price of the product.\"\"\"\n",
        "        return self.price * self.quantity\n",
        "\n",
        "# Example Usage:\n",
        "product1 = Product(\"Laptop\", 1200, 2)\n",
        "total_price1 = product1.total_price()\n",
        "print(f\"Total price of {product1.name}: ${total_price1}\")  # Output: Total price of Laptop: $2400\n",
        "\n",
        "product2 = Product(\"Mouse\", 25, 5)\n",
        "total_price2 = product2.total_price()\n",
        "print(f\"Total price of {product2.name}: ${total_price2}\")  # Output: Total price of Mouse: $125\n",
        "\n",
        "try:\n",
        "    product3 = Product(\"Keyboard\", \"100\", 2) # will raise TypeError\n",
        "except TypeError as e:\n",
        "    print(f\"Error: {e}\")\n",
        "\n",
        "try:\n",
        "    product4 = Product(\"Monitor\", 300, -1) # will raise ValueError\n",
        "except ValueError as e:\n",
        "    print(f\"Error: {e}\")\n"
      ],
      "metadata": {
        "id": "9fxCtG60dueY"
      }
    },
    {
      "cell_type": "markdown",
      "source": [
        "# 16 Create a class Animal with a abstract method sound ().  Create to derive it classes cow and sheep that implement the sound() method.\n",
        "Answer\n",
        "from abc import ABC, abstractmethod\n",
        "\n",
        "class Animal(ABC):  # Animal is now an Abstract Base Class\n",
        "    @abstractmethod\n",
        "    def sound(self):\n",
        "        \"\"\"Abstract method to be implemented by subclasses.\"\"\"\n",
        "        pass  # Or raise NotImplementedError if you prefer\n",
        "\n",
        "\n",
        "class Cow(Animal):\n",
        "    def sound(self):\n",
        "        print(\"Moo!\")\n",
        "\n",
        "class Sheep(Animal):\n",
        "    def sound(self):\n",
        "        print(\"Baa!\")\n",
        "\n",
        "# Example Usage:\n",
        "my_cow = Cow()\n",
        "my_cow.sound()  # Output: Moo!\n",
        "\n",
        "my_sheep = Sheep()\n",
        "my_sheep.sound()  # Output: Baa!\n",
        "\n",
        "# Trying to instantiate the abstract class directly (will raise an error):\n",
        "# try:\n",
        "#     my_animal = Animal()  # This will raise a TypeError because Animal is abstract\n",
        "# except TypeError as e:\n",
        "#     print(f\"Error: {e}\") # Output: Can't instantiate abstract class Animal with abstract methods sound\n",
        "\n",
        "animals = [Cow(), Sheep(), Cow()] # Polymorphism in action\n",
        "\n",
        "for animal in animals:\n",
        "    animal.sound() # Correct sound method is called for each object at runtime"
      ],
      "metadata": {
        "id": "qRwL37rSeMld"
      }
    },
    {
      "cell_type": "markdown",
      "source": [
        "Explanation and Key Improvements:\n",
        "\n",
        "Abstract Base Class (ABC and @abstractmethod):\n",
        "\n",
        "The Animal class now inherits from ABC (Abstract Base Class) from the abc module. This makes Animal an abstract class.\n",
        "The sound() method is decorated with @abstractmethod. This makes it an abstract method. Abstract methods must be implemented by any concrete (non-abstract) subclass.\n",
        "You cannot create instances of an abstract class directly. If you try, you'll get a TypeError. Abstract classes serve as templates or blueprints for their subclasses.\n",
        "Concrete Subclasses (Cow and Sheep):\n",
        "\n",
        "Cow and Sheep inherit from Animal.\n",
        "They must implement the sound() method. If they don't, you'll get a TypeError when you try to create an instance of the subclass.\n",
        "Example Usage:\n",
        "\n",
        "The example usage demonstrates how to create instances of the concrete subclasses (Cow and Sheep) and call their sound() methods.\n",
        "It also shows (in the commented-out code) what happens if you try to create an instance of the abstract class Animal directly.\n",
        "Polymorphism: The animals list and the loop demonstrate polymorphism.  Even though the items in the list are treated as Animal objects, the correct sound() method (either Cow's or Sheep's) is called at runtime because of dynamic dispatch."
      ],
      "metadata": {
        "id": "rqVjuYfHe7he"
      }
    },
    {
      "cell_type": "markdown",
      "source": [
        "# 17 Create a class book with attribute title author and year published at a method get book return a formatted string with the book\n",
        "Answer\n"
      ],
      "metadata": {
        "id": "bwtX48WEe9Qk"
      }
    },
    {
      "cell_type": "code",
      "source": [
        "class Book:\n",
        "    def __init__(self, title, author, year_published):\n",
        "        self.title = title\n",
        "        self.author = author\n",
        "        self.year_published = year_published\n",
        "\n",
        "    def get_book_info(self):\n",
        "        return f\"Title: {self.title}, Author: {self.author}, Year Published: {self.year_published}\"\n",
        "\n",
        "# Example usage:\n",
        "book1 = Book(\"The Hitchhiker's Guide to the Galaxy\", \"Douglas Adams\", 1979)\n",
        "book_info = book1.get_book_info()\n",
        "print(book_info)  # Output: Title: The Hitchhiker's Guide to the Galaxy, Author: Douglas Adams, Year Published: 1979\n",
        "\n",
        "book2 = Book(\"Pride and Prejudice\", \"Jane Austen\", 1813)\n",
        "book_info2 = book2.get_book_info()\n",
        "print(book_info2) # Output: Title: Pride and Prejudice, Author: Jane Austen, Year Published: 1813"
      ],
      "metadata": {
        "id": "pDJ64lo9fiuZ"
      },
      "execution_count": null,
      "outputs": []
    },
    {
      "cell_type": "markdown",
      "source": [
        "# 18 Create a class house with attribute address. and price created derivative class mention that add an attribute number _of _rooms.\n",
        "Answer"
      ],
      "metadata": {
        "id": "OcozmDl1fjv7"
      }
    },
    {
      "cell_type": "code",
      "source": [
        "class House:\n",
        "    def __init__(self, address, price):\n",
        "        self.address = address\n",
        "        self.price = price\n",
        "\n",
        "    def __str__(self):\n",
        "        return f\"Address: {self.address}, Price: ${self.price}\"\n",
        "\n",
        "class Mansion(House):\n",
        "    def __init__(self, address, price, number_of_rooms):\n",
        "        super().__init__(address, price)\n",
        "        self.number_of_rooms = number_of_rooms\n",
        "\n",
        "    def __str__(self):\n",
        "        return f\"Address: {self.address}, Price: ${self.price}, Number of Rooms: {self.number_of_rooms}\"\n",
        "\n",
        "# Create a House object\n",
        "house1 = House(\"123 Main St\", 250000)\n",
        "print(house1)\n",
        "\n",
        "# Create a Mansion object\n",
        "mansion1 = Mansion(\"777 Park Ave\", 5000000, 10)\n",
        "print(mansion1)"
      ],
      "metadata": {
        "id": "_fM8TzE0f4mD"
      },
      "execution_count": null,
      "outputs": []
    }
  ]
}